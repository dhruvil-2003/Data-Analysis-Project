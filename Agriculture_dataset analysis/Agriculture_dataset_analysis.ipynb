{
 "cells": [
  {
   "cell_type": "markdown",
   "id": "e45b17c5-49a9-40c4-b5d1-b92a73bfc928",
   "metadata": {},
   "source": [
    "### Agriculture Dataset Analysis"
   ]
  },
  {
   "cell_type": "code",
   "execution_count": 1,
   "id": "9ec3cca6-c312-4703-a125-82ef1dd1eca5",
   "metadata": {},
   "outputs": [],
   "source": [
    "import numpy as np\n",
    "import pandas as pd\n",
    "import matplotlib.pyplot as plt\n",
    "import seaborn as sns\n",
    "import plotly as pt\n",
    "import warnings \n",
    "warnings.filterwarnings('ignore')"
   ]
  },
  {
   "cell_type": "code",
   "execution_count": 2,
   "id": "05f76474-0ba2-4e33-a66d-92995691a19c",
   "metadata": {},
   "outputs": [
    {
     "data": {
      "text/html": [
       "<div>\n",
       "<style scoped>\n",
       "    .dataframe tbody tr th:only-of-type {\n",
       "        vertical-align: middle;\n",
       "    }\n",
       "\n",
       "    .dataframe tbody tr th {\n",
       "        vertical-align: top;\n",
       "    }\n",
       "\n",
       "    .dataframe thead th {\n",
       "        text-align: right;\n",
       "    }\n",
       "</style>\n",
       "<table border=\"1\" class=\"dataframe\">\n",
       "  <thead>\n",
       "    <tr style=\"text-align: right;\">\n",
       "      <th></th>\n",
       "      <th>Dist Code</th>\n",
       "      <th>Year</th>\n",
       "      <th>State Code</th>\n",
       "      <th>State Name</th>\n",
       "      <th>Dist Name</th>\n",
       "      <th>RICE AREA (1000 ha)</th>\n",
       "      <th>RICE PRODUCTION (1000 tons)</th>\n",
       "      <th>RICE YIELD (Kg per ha)</th>\n",
       "      <th>WHEAT AREA (1000 ha)</th>\n",
       "      <th>WHEAT PRODUCTION (1000 tons)</th>\n",
       "      <th>...</th>\n",
       "      <th>SUGARCANE YIELD (Kg per ha)</th>\n",
       "      <th>COTTON AREA (1000 ha)</th>\n",
       "      <th>COTTON PRODUCTION (1000 tons)</th>\n",
       "      <th>COTTON YIELD (Kg per ha)</th>\n",
       "      <th>FRUITS AREA (1000 ha)</th>\n",
       "      <th>VEGETABLES AREA (1000 ha)</th>\n",
       "      <th>FRUITS AND VEGETABLES AREA (1000 ha)</th>\n",
       "      <th>POTATOES AREA (1000 ha)</th>\n",
       "      <th>ONION AREA (1000 ha)</th>\n",
       "      <th>FODDER AREA (1000 ha)</th>\n",
       "    </tr>\n",
       "  </thead>\n",
       "  <tbody>\n",
       "    <tr>\n",
       "      <th>0</th>\n",
       "      <td>1</td>\n",
       "      <td>1966</td>\n",
       "      <td>14</td>\n",
       "      <td>Chhattisgarh</td>\n",
       "      <td>Durg</td>\n",
       "      <td>548.00</td>\n",
       "      <td>185.00</td>\n",
       "      <td>337.59</td>\n",
       "      <td>44.00</td>\n",
       "      <td>20.00</td>\n",
       "      <td>...</td>\n",
       "      <td>1777.78</td>\n",
       "      <td>0.0</td>\n",
       "      <td>0.0</td>\n",
       "      <td>0.0</td>\n",
       "      <td>5.95</td>\n",
       "      <td>6.64</td>\n",
       "      <td>12.59</td>\n",
       "      <td>0.01</td>\n",
       "      <td>0.60</td>\n",
       "      <td>0.47</td>\n",
       "    </tr>\n",
       "    <tr>\n",
       "      <th>1</th>\n",
       "      <td>1</td>\n",
       "      <td>1967</td>\n",
       "      <td>14</td>\n",
       "      <td>Chhattisgarh</td>\n",
       "      <td>Durg</td>\n",
       "      <td>547.00</td>\n",
       "      <td>409.00</td>\n",
       "      <td>747.71</td>\n",
       "      <td>50.00</td>\n",
       "      <td>26.00</td>\n",
       "      <td>...</td>\n",
       "      <td>1500.00</td>\n",
       "      <td>0.0</td>\n",
       "      <td>0.0</td>\n",
       "      <td>0.0</td>\n",
       "      <td>5.77</td>\n",
       "      <td>7.24</td>\n",
       "      <td>13.02</td>\n",
       "      <td>0.01</td>\n",
       "      <td>0.56</td>\n",
       "      <td>1.23</td>\n",
       "    </tr>\n",
       "    <tr>\n",
       "      <th>2</th>\n",
       "      <td>1</td>\n",
       "      <td>1968</td>\n",
       "      <td>14</td>\n",
       "      <td>Chhattisgarh</td>\n",
       "      <td>Durg</td>\n",
       "      <td>556.30</td>\n",
       "      <td>468.00</td>\n",
       "      <td>841.27</td>\n",
       "      <td>53.70</td>\n",
       "      <td>30.00</td>\n",
       "      <td>...</td>\n",
       "      <td>1000.00</td>\n",
       "      <td>0.0</td>\n",
       "      <td>0.0</td>\n",
       "      <td>0.0</td>\n",
       "      <td>5.41</td>\n",
       "      <td>7.40</td>\n",
       "      <td>12.81</td>\n",
       "      <td>0.10</td>\n",
       "      <td>0.58</td>\n",
       "      <td>1.02</td>\n",
       "    </tr>\n",
       "    <tr>\n",
       "      <th>3</th>\n",
       "      <td>1</td>\n",
       "      <td>1969</td>\n",
       "      <td>14</td>\n",
       "      <td>Chhattisgarh</td>\n",
       "      <td>Durg</td>\n",
       "      <td>563.40</td>\n",
       "      <td>400.80</td>\n",
       "      <td>711.40</td>\n",
       "      <td>49.40</td>\n",
       "      <td>26.50</td>\n",
       "      <td>...</td>\n",
       "      <td>1900.00</td>\n",
       "      <td>0.0</td>\n",
       "      <td>0.0</td>\n",
       "      <td>0.0</td>\n",
       "      <td>5.52</td>\n",
       "      <td>7.16</td>\n",
       "      <td>12.69</td>\n",
       "      <td>0.01</td>\n",
       "      <td>0.56</td>\n",
       "      <td>0.84</td>\n",
       "    </tr>\n",
       "    <tr>\n",
       "      <th>4</th>\n",
       "      <td>1</td>\n",
       "      <td>1970</td>\n",
       "      <td>14</td>\n",
       "      <td>Chhattisgarh</td>\n",
       "      <td>Durg</td>\n",
       "      <td>571.60</td>\n",
       "      <td>473.60</td>\n",
       "      <td>828.55</td>\n",
       "      <td>44.20</td>\n",
       "      <td>29.00</td>\n",
       "      <td>...</td>\n",
       "      <td>2000.00</td>\n",
       "      <td>0.0</td>\n",
       "      <td>0.0</td>\n",
       "      <td>0.0</td>\n",
       "      <td>5.45</td>\n",
       "      <td>7.19</td>\n",
       "      <td>12.64</td>\n",
       "      <td>0.02</td>\n",
       "      <td>0.52</td>\n",
       "      <td>0.42</td>\n",
       "    </tr>\n",
       "    <tr>\n",
       "      <th>...</th>\n",
       "      <td>...</td>\n",
       "      <td>...</td>\n",
       "      <td>...</td>\n",
       "      <td>...</td>\n",
       "      <td>...</td>\n",
       "      <td>...</td>\n",
       "      <td>...</td>\n",
       "      <td>...</td>\n",
       "      <td>...</td>\n",
       "      <td>...</td>\n",
       "      <td>...</td>\n",
       "      <td>...</td>\n",
       "      <td>...</td>\n",
       "      <td>...</td>\n",
       "      <td>...</td>\n",
       "      <td>...</td>\n",
       "      <td>...</td>\n",
       "      <td>...</td>\n",
       "      <td>...</td>\n",
       "      <td>...</td>\n",
       "      <td>...</td>\n",
       "    </tr>\n",
       "    <tr>\n",
       "      <th>16141</th>\n",
       "      <td>917</td>\n",
       "      <td>2013</td>\n",
       "      <td>15</td>\n",
       "      <td>Jharkhand</td>\n",
       "      <td>Singhbhum</td>\n",
       "      <td>267.06</td>\n",
       "      <td>579.70</td>\n",
       "      <td>2170.67</td>\n",
       "      <td>1.53</td>\n",
       "      <td>1.85</td>\n",
       "      <td>...</td>\n",
       "      <td>0.00</td>\n",
       "      <td>0.0</td>\n",
       "      <td>0.0</td>\n",
       "      <td>0.0</td>\n",
       "      <td>0.00</td>\n",
       "      <td>9.02</td>\n",
       "      <td>9.03</td>\n",
       "      <td>0.48</td>\n",
       "      <td>0.08</td>\n",
       "      <td>0.00</td>\n",
       "    </tr>\n",
       "    <tr>\n",
       "      <th>16142</th>\n",
       "      <td>917</td>\n",
       "      <td>2014</td>\n",
       "      <td>15</td>\n",
       "      <td>Jharkhand</td>\n",
       "      <td>Singhbhum</td>\n",
       "      <td>256.33</td>\n",
       "      <td>586.63</td>\n",
       "      <td>2288.57</td>\n",
       "      <td>5.36</td>\n",
       "      <td>6.65</td>\n",
       "      <td>...</td>\n",
       "      <td>0.00</td>\n",
       "      <td>0.0</td>\n",
       "      <td>0.0</td>\n",
       "      <td>0.0</td>\n",
       "      <td>0.00</td>\n",
       "      <td>8.63</td>\n",
       "      <td>8.64</td>\n",
       "      <td>0.46</td>\n",
       "      <td>0.04</td>\n",
       "      <td>0.00</td>\n",
       "    </tr>\n",
       "    <tr>\n",
       "      <th>16143</th>\n",
       "      <td>917</td>\n",
       "      <td>2015</td>\n",
       "      <td>15</td>\n",
       "      <td>Jharkhand</td>\n",
       "      <td>Singhbhum</td>\n",
       "      <td>263.21</td>\n",
       "      <td>264.71</td>\n",
       "      <td>1005.70</td>\n",
       "      <td>1.99</td>\n",
       "      <td>1.82</td>\n",
       "      <td>...</td>\n",
       "      <td>0.00</td>\n",
       "      <td>0.0</td>\n",
       "      <td>0.0</td>\n",
       "      <td>0.0</td>\n",
       "      <td>0.00</td>\n",
       "      <td>6.84</td>\n",
       "      <td>6.85</td>\n",
       "      <td>0.42</td>\n",
       "      <td>0.01</td>\n",
       "      <td>0.00</td>\n",
       "    </tr>\n",
       "    <tr>\n",
       "      <th>16144</th>\n",
       "      <td>917</td>\n",
       "      <td>2016</td>\n",
       "      <td>15</td>\n",
       "      <td>Jharkhand</td>\n",
       "      <td>Singhbhum</td>\n",
       "      <td>224.05</td>\n",
       "      <td>319.01</td>\n",
       "      <td>1423.84</td>\n",
       "      <td>0.38</td>\n",
       "      <td>0.83</td>\n",
       "      <td>...</td>\n",
       "      <td>0.00</td>\n",
       "      <td>0.0</td>\n",
       "      <td>0.0</td>\n",
       "      <td>0.0</td>\n",
       "      <td>0.03</td>\n",
       "      <td>6.40</td>\n",
       "      <td>6.43</td>\n",
       "      <td>0.03</td>\n",
       "      <td>0.01</td>\n",
       "      <td>0.00</td>\n",
       "    </tr>\n",
       "    <tr>\n",
       "      <th>16145</th>\n",
       "      <td>917</td>\n",
       "      <td>2017</td>\n",
       "      <td>15</td>\n",
       "      <td>Jharkhand</td>\n",
       "      <td>Singhbhum</td>\n",
       "      <td>386.91</td>\n",
       "      <td>669.97</td>\n",
       "      <td>1731.62</td>\n",
       "      <td>0.00</td>\n",
       "      <td>0.00</td>\n",
       "      <td>...</td>\n",
       "      <td>0.00</td>\n",
       "      <td>0.0</td>\n",
       "      <td>0.0</td>\n",
       "      <td>0.0</td>\n",
       "      <td>0.00</td>\n",
       "      <td>0.00</td>\n",
       "      <td>0.00</td>\n",
       "      <td>0.00</td>\n",
       "      <td>0.00</td>\n",
       "      <td>0.00</td>\n",
       "    </tr>\n",
       "  </tbody>\n",
       "</table>\n",
       "<p>16146 rows × 80 columns</p>\n",
       "</div>"
      ],
      "text/plain": [
       "       Dist Code  Year  State Code    State Name  Dist Name  \\\n",
       "0              1  1966          14  Chhattisgarh       Durg   \n",
       "1              1  1967          14  Chhattisgarh       Durg   \n",
       "2              1  1968          14  Chhattisgarh       Durg   \n",
       "3              1  1969          14  Chhattisgarh       Durg   \n",
       "4              1  1970          14  Chhattisgarh       Durg   \n",
       "...          ...   ...         ...           ...        ...   \n",
       "16141        917  2013          15     Jharkhand  Singhbhum   \n",
       "16142        917  2014          15     Jharkhand  Singhbhum   \n",
       "16143        917  2015          15     Jharkhand  Singhbhum   \n",
       "16144        917  2016          15     Jharkhand  Singhbhum   \n",
       "16145        917  2017          15     Jharkhand  Singhbhum   \n",
       "\n",
       "       RICE AREA (1000 ha)  RICE PRODUCTION (1000 tons)  \\\n",
       "0                   548.00                       185.00   \n",
       "1                   547.00                       409.00   \n",
       "2                   556.30                       468.00   \n",
       "3                   563.40                       400.80   \n",
       "4                   571.60                       473.60   \n",
       "...                    ...                          ...   \n",
       "16141               267.06                       579.70   \n",
       "16142               256.33                       586.63   \n",
       "16143               263.21                       264.71   \n",
       "16144               224.05                       319.01   \n",
       "16145               386.91                       669.97   \n",
       "\n",
       "       RICE YIELD (Kg per ha)  WHEAT AREA (1000 ha)  \\\n",
       "0                      337.59                 44.00   \n",
       "1                      747.71                 50.00   \n",
       "2                      841.27                 53.70   \n",
       "3                      711.40                 49.40   \n",
       "4                      828.55                 44.20   \n",
       "...                       ...                   ...   \n",
       "16141                 2170.67                  1.53   \n",
       "16142                 2288.57                  5.36   \n",
       "16143                 1005.70                  1.99   \n",
       "16144                 1423.84                  0.38   \n",
       "16145                 1731.62                  0.00   \n",
       "\n",
       "       WHEAT PRODUCTION (1000 tons)  ...  SUGARCANE YIELD (Kg per ha)  \\\n",
       "0                             20.00  ...                      1777.78   \n",
       "1                             26.00  ...                      1500.00   \n",
       "2                             30.00  ...                      1000.00   \n",
       "3                             26.50  ...                      1900.00   \n",
       "4                             29.00  ...                      2000.00   \n",
       "...                             ...  ...                          ...   \n",
       "16141                          1.85  ...                         0.00   \n",
       "16142                          6.65  ...                         0.00   \n",
       "16143                          1.82  ...                         0.00   \n",
       "16144                          0.83  ...                         0.00   \n",
       "16145                          0.00  ...                         0.00   \n",
       "\n",
       "       COTTON AREA (1000 ha)  COTTON PRODUCTION (1000 tons)  \\\n",
       "0                        0.0                            0.0   \n",
       "1                        0.0                            0.0   \n",
       "2                        0.0                            0.0   \n",
       "3                        0.0                            0.0   \n",
       "4                        0.0                            0.0   \n",
       "...                      ...                            ...   \n",
       "16141                    0.0                            0.0   \n",
       "16142                    0.0                            0.0   \n",
       "16143                    0.0                            0.0   \n",
       "16144                    0.0                            0.0   \n",
       "16145                    0.0                            0.0   \n",
       "\n",
       "       COTTON YIELD (Kg per ha)  FRUITS AREA (1000 ha)  \\\n",
       "0                           0.0                   5.95   \n",
       "1                           0.0                   5.77   \n",
       "2                           0.0                   5.41   \n",
       "3                           0.0                   5.52   \n",
       "4                           0.0                   5.45   \n",
       "...                         ...                    ...   \n",
       "16141                       0.0                   0.00   \n",
       "16142                       0.0                   0.00   \n",
       "16143                       0.0                   0.00   \n",
       "16144                       0.0                   0.03   \n",
       "16145                       0.0                   0.00   \n",
       "\n",
       "       VEGETABLES AREA (1000 ha)  FRUITS AND VEGETABLES AREA (1000 ha)  \\\n",
       "0                           6.64                                 12.59   \n",
       "1                           7.24                                 13.02   \n",
       "2                           7.40                                 12.81   \n",
       "3                           7.16                                 12.69   \n",
       "4                           7.19                                 12.64   \n",
       "...                          ...                                   ...   \n",
       "16141                       9.02                                  9.03   \n",
       "16142                       8.63                                  8.64   \n",
       "16143                       6.84                                  6.85   \n",
       "16144                       6.40                                  6.43   \n",
       "16145                       0.00                                  0.00   \n",
       "\n",
       "       POTATOES AREA (1000 ha)  ONION AREA (1000 ha)  FODDER AREA (1000 ha)  \n",
       "0                         0.01                  0.60                   0.47  \n",
       "1                         0.01                  0.56                   1.23  \n",
       "2                         0.10                  0.58                   1.02  \n",
       "3                         0.01                  0.56                   0.84  \n",
       "4                         0.02                  0.52                   0.42  \n",
       "...                        ...                   ...                    ...  \n",
       "16141                     0.48                  0.08                   0.00  \n",
       "16142                     0.46                  0.04                   0.00  \n",
       "16143                     0.42                  0.01                   0.00  \n",
       "16144                     0.03                  0.01                   0.00  \n",
       "16145                     0.00                  0.00                   0.00  \n",
       "\n",
       "[16146 rows x 80 columns]"
      ]
     },
     "execution_count": 2,
     "metadata": {},
     "output_type": "execute_result"
    }
   ],
   "source": [
    "data = pd.read_csv(\"C:\\\\Users\\\\hp\\\\Desktop\\\\Datasets\\\\ICRISAT-District Level Data.csv\")\n",
    "data"
   ]
  },
  {
   "cell_type": "markdown",
   "id": "e1a8b1d2-e9aa-474a-8c4a-003718ebf1b1",
   "metadata": {},
   "source": [
    "##### Shape of the dataset"
   ]
  },
  {
   "cell_type": "code",
   "execution_count": 3,
   "id": "8488371c-4c51-4962-8664-83a963380a2f",
   "metadata": {},
   "outputs": [
    {
     "name": "stdout",
     "output_type": "stream",
     "text": [
      "No. of rows =  16146\n",
      "No. of columns =  80\n"
     ]
    }
   ],
   "source": [
    "print(\"No. of rows = \",data.shape[0])\n",
    "print(\"No. of columns = \",data.shape[1])"
   ]
  },
  {
   "cell_type": "markdown",
   "id": "4ba737d6-0773-475d-a157-e41415794e7e",
   "metadata": {},
   "source": [
    "##### Check null values in dataset"
   ]
  },
  {
   "cell_type": "code",
   "execution_count": 4,
   "id": "ea948b5d-a362-4e3a-beb9-afd0bc9e07be",
   "metadata": {},
   "outputs": [
    {
     "data": {
      "text/plain": [
       "Dist Code                               0\n",
       "Year                                    0\n",
       "State Code                              0\n",
       "State Name                              0\n",
       "Dist Name                               0\n",
       "                                       ..\n",
       "VEGETABLES AREA (1000 ha)               0\n",
       "FRUITS AND VEGETABLES AREA (1000 ha)    0\n",
       "POTATOES AREA (1000 ha)                 0\n",
       "ONION AREA (1000 ha)                    0\n",
       "FODDER AREA (1000 ha)                   0\n",
       "Length: 80, dtype: int64"
      ]
     },
     "execution_count": 4,
     "metadata": {},
     "output_type": "execute_result"
    }
   ],
   "source": [
    "data.isnull().sum()"
   ]
  },
  {
   "cell_type": "markdown",
   "id": "61986c5a-c30c-4eb8-b8f9-ac09230f9919",
   "metadata": {},
   "source": [
    "##### Check duplicate values in the dataset"
   ]
  },
  {
   "cell_type": "code",
   "execution_count": 5,
   "id": "059d4c1b-e251-42b0-821a-7d6305a4f88c",
   "metadata": {},
   "outputs": [
    {
     "data": {
      "text/plain": [
       "0"
      ]
     },
     "execution_count": 5,
     "metadata": {},
     "output_type": "execute_result"
    }
   ],
   "source": [
    "data.duplicated().sum()"
   ]
  },
  {
   "cell_type": "markdown",
   "id": "a32e940c-79ab-4181-b329-366921ee8ac7",
   "metadata": {},
   "source": [
    "##### Information of the dataset"
   ]
  },
  {
   "cell_type": "code",
   "execution_count": 6,
   "id": "91e4038e-c87b-4a1f-9fdb-650c10d60a7c",
   "metadata": {},
   "outputs": [
    {
     "name": "stdout",
     "output_type": "stream",
     "text": [
      "<class 'pandas.core.frame.DataFrame'>\n",
      "RangeIndex: 16146 entries, 0 to 16145\n",
      "Data columns (total 80 columns):\n",
      " #   Column                                       Non-Null Count  Dtype  \n",
      "---  ------                                       --------------  -----  \n",
      " 0   Dist Code                                    16146 non-null  int64  \n",
      " 1   Year                                         16146 non-null  int64  \n",
      " 2   State Code                                   16146 non-null  int64  \n",
      " 3   State Name                                   16146 non-null  object \n",
      " 4   Dist Name                                    16146 non-null  object \n",
      " 5   RICE AREA (1000 ha)                          16146 non-null  float64\n",
      " 6   RICE PRODUCTION (1000 tons)                  16146 non-null  float64\n",
      " 7   RICE YIELD (Kg per ha)                       16146 non-null  float64\n",
      " 8   WHEAT AREA (1000 ha)                         16146 non-null  float64\n",
      " 9   WHEAT PRODUCTION (1000 tons)                 16146 non-null  float64\n",
      " 10  WHEAT YIELD (Kg per ha)                      16146 non-null  float64\n",
      " 11  KHARIF SORGHUM AREA (1000 ha)                16146 non-null  float64\n",
      " 12  KHARIF SORGHUM PRODUCTION (1000 tons)        16146 non-null  float64\n",
      " 13  KHARIF SORGHUM YIELD (Kg per ha)             16146 non-null  float64\n",
      " 14  RABI SORGHUM AREA (1000 ha)                  16146 non-null  float64\n",
      " 15  RABI SORGHUM PRODUCTION (1000 tons)          16146 non-null  float64\n",
      " 16  RABI SORGHUM YIELD (Kg per ha)               16146 non-null  float64\n",
      " 17  SORGHUM AREA (1000 ha)                       16146 non-null  float64\n",
      " 18  SORGHUM PRODUCTION (1000 tons)               16146 non-null  float64\n",
      " 19  SORGHUM YIELD (Kg per ha)                    16146 non-null  float64\n",
      " 20  PEARL MILLET AREA (1000 ha)                  16146 non-null  float64\n",
      " 21  PEARL MILLET PRODUCTION (1000 tons)          16146 non-null  float64\n",
      " 22  PEARL MILLET YIELD (Kg per ha)               16146 non-null  float64\n",
      " 23  MAIZE AREA (1000 ha)                         16146 non-null  float64\n",
      " 24  MAIZE PRODUCTION (1000 tons)                 16146 non-null  float64\n",
      " 25  MAIZE YIELD (Kg per ha)                      16146 non-null  float64\n",
      " 26  FINGER MILLET AREA (1000 ha)                 16146 non-null  float64\n",
      " 27  FINGER MILLET PRODUCTION (1000 tons)         16146 non-null  float64\n",
      " 28  FINGER MILLET YIELD (Kg per ha)              16146 non-null  float64\n",
      " 29  BARLEY AREA (1000 ha)                        16146 non-null  float64\n",
      " 30  BARLEY PRODUCTION (1000 tons)                16146 non-null  float64\n",
      " 31  BARLEY YIELD (Kg per ha)                     16146 non-null  float64\n",
      " 32  CHICKPEA AREA (1000 ha)                      16146 non-null  float64\n",
      " 33  CHICKPEA PRODUCTION (1000 tons)              16146 non-null  float64\n",
      " 34  CHICKPEA YIELD (Kg per ha)                   16146 non-null  float64\n",
      " 35  PIGEONPEA AREA (1000 ha)                     16146 non-null  float64\n",
      " 36  PIGEONPEA PRODUCTION (1000 tons)             16146 non-null  float64\n",
      " 37  PIGEONPEA YIELD (Kg per ha)                  16146 non-null  float64\n",
      " 38  MINOR PULSES AREA (1000 ha)                  16146 non-null  float64\n",
      " 39  MINOR PULSES PRODUCTION (1000 tons)          16146 non-null  float64\n",
      " 40  MINOR PULSES YIELD (Kg per ha)               16146 non-null  float64\n",
      " 41  GROUNDNUT AREA (1000 ha)                     16146 non-null  float64\n",
      " 42  GROUNDNUT PRODUCTION (1000 tons)             16146 non-null  float64\n",
      " 43  GROUNDNUT YIELD (Kg per ha)                  16146 non-null  float64\n",
      " 44  SESAMUM AREA (1000 ha)                       16146 non-null  float64\n",
      " 45  SESAMUM PRODUCTION (1000 tons)               16146 non-null  float64\n",
      " 46  SESAMUM YIELD (Kg per ha)                    16146 non-null  float64\n",
      " 47  RAPESEED AND MUSTARD AREA (1000 ha)          16146 non-null  float64\n",
      " 48  RAPESEED AND MUSTARD PRODUCTION (1000 tons)  16146 non-null  float64\n",
      " 49  RAPESEED AND MUSTARD YIELD (Kg per ha)       16146 non-null  float64\n",
      " 50  SAFFLOWER AREA (1000 ha)                     16146 non-null  float64\n",
      " 51  SAFFLOWER PRODUCTION (1000 tons)             16146 non-null  float64\n",
      " 52  SAFFLOWER YIELD (Kg per ha)                  16146 non-null  float64\n",
      " 53  CASTOR AREA (1000 ha)                        16146 non-null  float64\n",
      " 54  CASTOR PRODUCTION (1000 tons)                16146 non-null  float64\n",
      " 55  CASTOR YIELD (Kg per ha)                     16146 non-null  float64\n",
      " 56  LINSEED AREA (1000 ha)                       16146 non-null  float64\n",
      " 57  LINSEED PRODUCTION (1000 tons)               16146 non-null  float64\n",
      " 58  LINSEED YIELD (Kg per ha)                    16146 non-null  float64\n",
      " 59  SUNFLOWER AREA (1000 ha)                     16146 non-null  float64\n",
      " 60  SUNFLOWER PRODUCTION (1000 tons)             16146 non-null  float64\n",
      " 61  SUNFLOWER YIELD (Kg per ha)                  16146 non-null  float64\n",
      " 62  SOYABEAN AREA (1000 ha)                      16146 non-null  float64\n",
      " 63  SOYABEAN PRODUCTION (1000 tons)              16146 non-null  float64\n",
      " 64  SOYABEAN YIELD (Kg per ha)                   16146 non-null  float64\n",
      " 65  OILSEEDS AREA (1000 ha)                      16146 non-null  float64\n",
      " 66  OILSEEDS PRODUCTION (1000 tons)              16146 non-null  float64\n",
      " 67  OILSEEDS YIELD (Kg per ha)                   16146 non-null  float64\n",
      " 68  SUGARCANE AREA (1000 ha)                     16146 non-null  float64\n",
      " 69  SUGARCANE PRODUCTION (1000 tons)             16146 non-null  float64\n",
      " 70  SUGARCANE YIELD (Kg per ha)                  16146 non-null  float64\n",
      " 71  COTTON AREA (1000 ha)                        16146 non-null  float64\n",
      " 72  COTTON PRODUCTION (1000 tons)                16146 non-null  float64\n",
      " 73  COTTON YIELD (Kg per ha)                     16146 non-null  float64\n",
      " 74  FRUITS AREA (1000 ha)                        16146 non-null  float64\n",
      " 75  VEGETABLES AREA (1000 ha)                    16146 non-null  float64\n",
      " 76  FRUITS AND VEGETABLES AREA (1000 ha)         16146 non-null  float64\n",
      " 77  POTATOES AREA (1000 ha)                      16146 non-null  float64\n",
      " 78  ONION AREA (1000 ha)                         16146 non-null  float64\n",
      " 79  FODDER AREA (1000 ha)                        16146 non-null  float64\n",
      "dtypes: float64(75), int64(3), object(2)\n",
      "memory usage: 9.9+ MB\n"
     ]
    }
   ],
   "source": [
    "data.info()"
   ]
  },
  {
   "cell_type": "markdown",
   "id": "99112546-bc6b-4fee-bb6f-cdd429732511",
   "metadata": {},
   "source": [
    "##### Describe of the dataset"
   ]
  },
  {
   "cell_type": "code",
   "execution_count": 7,
   "id": "2bb524ce-e909-46da-8bbb-4ffcd3ad05aa",
   "metadata": {},
   "outputs": [
    {
     "data": {
      "text/html": [
       "<div>\n",
       "<style scoped>\n",
       "    .dataframe tbody tr th:only-of-type {\n",
       "        vertical-align: middle;\n",
       "    }\n",
       "\n",
       "    .dataframe tbody tr th {\n",
       "        vertical-align: top;\n",
       "    }\n",
       "\n",
       "    .dataframe thead th {\n",
       "        text-align: right;\n",
       "    }\n",
       "</style>\n",
       "<table border=\"1\" class=\"dataframe\">\n",
       "  <thead>\n",
       "    <tr style=\"text-align: right;\">\n",
       "      <th></th>\n",
       "      <th>Dist Code</th>\n",
       "      <th>Year</th>\n",
       "      <th>State Code</th>\n",
       "      <th>State Name</th>\n",
       "      <th>Dist Name</th>\n",
       "      <th>RICE AREA (1000 ha)</th>\n",
       "      <th>RICE PRODUCTION (1000 tons)</th>\n",
       "      <th>RICE YIELD (Kg per ha)</th>\n",
       "      <th>WHEAT AREA (1000 ha)</th>\n",
       "      <th>WHEAT PRODUCTION (1000 tons)</th>\n",
       "      <th>...</th>\n",
       "      <th>SUGARCANE YIELD (Kg per ha)</th>\n",
       "      <th>COTTON AREA (1000 ha)</th>\n",
       "      <th>COTTON PRODUCTION (1000 tons)</th>\n",
       "      <th>COTTON YIELD (Kg per ha)</th>\n",
       "      <th>FRUITS AREA (1000 ha)</th>\n",
       "      <th>VEGETABLES AREA (1000 ha)</th>\n",
       "      <th>FRUITS AND VEGETABLES AREA (1000 ha)</th>\n",
       "      <th>POTATOES AREA (1000 ha)</th>\n",
       "      <th>ONION AREA (1000 ha)</th>\n",
       "      <th>FODDER AREA (1000 ha)</th>\n",
       "    </tr>\n",
       "  </thead>\n",
       "  <tbody>\n",
       "    <tr>\n",
       "      <th>count</th>\n",
       "      <td>16146.000000</td>\n",
       "      <td>16146.000000</td>\n",
       "      <td>16146.000000</td>\n",
       "      <td>16146</td>\n",
       "      <td>16146</td>\n",
       "      <td>16146.000000</td>\n",
       "      <td>16146.000000</td>\n",
       "      <td>16146.000000</td>\n",
       "      <td>16146.000000</td>\n",
       "      <td>16146.000000</td>\n",
       "      <td>...</td>\n",
       "      <td>16146.00000</td>\n",
       "      <td>16146.000000</td>\n",
       "      <td>16146.000000</td>\n",
       "      <td>16146.000000</td>\n",
       "      <td>16146.000000</td>\n",
       "      <td>16146.000000</td>\n",
       "      <td>16146.000000</td>\n",
       "      <td>16146.000000</td>\n",
       "      <td>16146.000000</td>\n",
       "      <td>16146.000000</td>\n",
       "    </tr>\n",
       "    <tr>\n",
       "      <th>unique</th>\n",
       "      <td>NaN</td>\n",
       "      <td>NaN</td>\n",
       "      <td>NaN</td>\n",
       "      <td>20</td>\n",
       "      <td>311</td>\n",
       "      <td>NaN</td>\n",
       "      <td>NaN</td>\n",
       "      <td>NaN</td>\n",
       "      <td>NaN</td>\n",
       "      <td>NaN</td>\n",
       "      <td>...</td>\n",
       "      <td>NaN</td>\n",
       "      <td>NaN</td>\n",
       "      <td>NaN</td>\n",
       "      <td>NaN</td>\n",
       "      <td>NaN</td>\n",
       "      <td>NaN</td>\n",
       "      <td>NaN</td>\n",
       "      <td>NaN</td>\n",
       "      <td>NaN</td>\n",
       "      <td>NaN</td>\n",
       "    </tr>\n",
       "    <tr>\n",
       "      <th>top</th>\n",
       "      <td>NaN</td>\n",
       "      <td>NaN</td>\n",
       "      <td>NaN</td>\n",
       "      <td>Uttar Pradesh</td>\n",
       "      <td>Durg</td>\n",
       "      <td>NaN</td>\n",
       "      <td>NaN</td>\n",
       "      <td>NaN</td>\n",
       "      <td>NaN</td>\n",
       "      <td>NaN</td>\n",
       "      <td>...</td>\n",
       "      <td>NaN</td>\n",
       "      <td>NaN</td>\n",
       "      <td>NaN</td>\n",
       "      <td>NaN</td>\n",
       "      <td>NaN</td>\n",
       "      <td>NaN</td>\n",
       "      <td>NaN</td>\n",
       "      <td>NaN</td>\n",
       "      <td>NaN</td>\n",
       "      <td>NaN</td>\n",
       "    </tr>\n",
       "    <tr>\n",
       "      <th>freq</th>\n",
       "      <td>NaN</td>\n",
       "      <td>NaN</td>\n",
       "      <td>NaN</td>\n",
       "      <td>2392</td>\n",
       "      <td>52</td>\n",
       "      <td>NaN</td>\n",
       "      <td>NaN</td>\n",
       "      <td>NaN</td>\n",
       "      <td>NaN</td>\n",
       "      <td>NaN</td>\n",
       "      <td>...</td>\n",
       "      <td>NaN</td>\n",
       "      <td>NaN</td>\n",
       "      <td>NaN</td>\n",
       "      <td>NaN</td>\n",
       "      <td>NaN</td>\n",
       "      <td>NaN</td>\n",
       "      <td>NaN</td>\n",
       "      <td>NaN</td>\n",
       "      <td>NaN</td>\n",
       "      <td>NaN</td>\n",
       "    </tr>\n",
       "    <tr>\n",
       "      <th>mean</th>\n",
       "      <td>269.769231</td>\n",
       "      <td>1991.496841</td>\n",
       "      <td>9.568562</td>\n",
       "      <td>NaN</td>\n",
       "      <td>NaN</td>\n",
       "      <td>128.593192</td>\n",
       "      <td>224.889565</td>\n",
       "      <td>1486.924784</td>\n",
       "      <td>77.057946</td>\n",
       "      <td>182.012746</td>\n",
       "      <td>...</td>\n",
       "      <td>4500.15306</td>\n",
       "      <td>28.018367</td>\n",
       "      <td>7.229225</td>\n",
       "      <td>124.644823</td>\n",
       "      <td>7.750478</td>\n",
       "      <td>11.086250</td>\n",
       "      <td>18.677877</td>\n",
       "      <td>3.177038</td>\n",
       "      <td>1.194604</td>\n",
       "      <td>21.550328</td>\n",
       "    </tr>\n",
       "    <tr>\n",
       "      <th>std</th>\n",
       "      <td>278.309125</td>\n",
       "      <td>15.011185</td>\n",
       "      <td>4.988538</td>\n",
       "      <td>NaN</td>\n",
       "      <td>NaN</td>\n",
       "      <td>160.078825</td>\n",
       "      <td>326.629828</td>\n",
       "      <td>956.185281</td>\n",
       "      <td>100.394479</td>\n",
       "      <td>348.834254</td>\n",
       "      <td>...</td>\n",
       "      <td>3153.97042</td>\n",
       "      <td>74.239648</td>\n",
       "      <td>25.042132</td>\n",
       "      <td>207.681147</td>\n",
       "      <td>13.591135</td>\n",
       "      <td>18.003257</td>\n",
       "      <td>25.881842</td>\n",
       "      <td>8.029509</td>\n",
       "      <td>4.285067</td>\n",
       "      <td>60.062601</td>\n",
       "    </tr>\n",
       "    <tr>\n",
       "      <th>min</th>\n",
       "      <td>1.000000</td>\n",
       "      <td>1966.000000</td>\n",
       "      <td>1.000000</td>\n",
       "      <td>NaN</td>\n",
       "      <td>NaN</td>\n",
       "      <td>-1.000000</td>\n",
       "      <td>-1.000000</td>\n",
       "      <td>-1.000000</td>\n",
       "      <td>-1.000000</td>\n",
       "      <td>-1.000000</td>\n",
       "      <td>...</td>\n",
       "      <td>-1.00000</td>\n",
       "      <td>-1.000000</td>\n",
       "      <td>-1.000000</td>\n",
       "      <td>-1.000000</td>\n",
       "      <td>-1.000000</td>\n",
       "      <td>-1.000000</td>\n",
       "      <td>-1.000000</td>\n",
       "      <td>-1.000000</td>\n",
       "      <td>-1.000000</td>\n",
       "      <td>-1.000000</td>\n",
       "    </tr>\n",
       "    <tr>\n",
       "      <th>25%</th>\n",
       "      <td>78.000000</td>\n",
       "      <td>1978.000000</td>\n",
       "      <td>6.000000</td>\n",
       "      <td>NaN</td>\n",
       "      <td>NaN</td>\n",
       "      <td>10.400000</td>\n",
       "      <td>9.460000</td>\n",
       "      <td>800.000000</td>\n",
       "      <td>1.770000</td>\n",
       "      <td>2.000000</td>\n",
       "      <td>...</td>\n",
       "      <td>2000.00000</td>\n",
       "      <td>0.000000</td>\n",
       "      <td>0.000000</td>\n",
       "      <td>0.000000</td>\n",
       "      <td>0.310000</td>\n",
       "      <td>1.600000</td>\n",
       "      <td>2.520000</td>\n",
       "      <td>0.000000</td>\n",
       "      <td>0.060000</td>\n",
       "      <td>0.000000</td>\n",
       "    </tr>\n",
       "    <tr>\n",
       "      <th>50%</th>\n",
       "      <td>156.000000</td>\n",
       "      <td>1991.000000</td>\n",
       "      <td>10.000000</td>\n",
       "      <td>NaN</td>\n",
       "      <td>NaN</td>\n",
       "      <td>66.800000</td>\n",
       "      <td>95.840000</td>\n",
       "      <td>1333.210000</td>\n",
       "      <td>36.800000</td>\n",
       "      <td>42.700000</td>\n",
       "      <td>...</td>\n",
       "      <td>4502.21000</td>\n",
       "      <td>0.050000</td>\n",
       "      <td>0.000000</td>\n",
       "      <td>0.000000</td>\n",
       "      <td>2.220000</td>\n",
       "      <td>4.740000</td>\n",
       "      <td>8.945000</td>\n",
       "      <td>0.390000</td>\n",
       "      <td>0.280000</td>\n",
       "      <td>1.200000</td>\n",
       "    </tr>\n",
       "    <tr>\n",
       "      <th>75%</th>\n",
       "      <td>241.000000</td>\n",
       "      <td>2005.000000</td>\n",
       "      <td>12.000000</td>\n",
       "      <td>NaN</td>\n",
       "      <td>NaN</td>\n",
       "      <td>191.390000</td>\n",
       "      <td>315.715000</td>\n",
       "      <td>2113.517500</td>\n",
       "      <td>123.000000</td>\n",
       "      <td>215.192500</td>\n",
       "      <td>...</td>\n",
       "      <td>6704.60500</td>\n",
       "      <td>10.097500</td>\n",
       "      <td>2.000000</td>\n",
       "      <td>202.270000</td>\n",
       "      <td>8.790000</td>\n",
       "      <td>12.510000</td>\n",
       "      <td>23.570000</td>\n",
       "      <td>3.150000</td>\n",
       "      <td>0.880000</td>\n",
       "      <td>16.762500</td>\n",
       "    </tr>\n",
       "    <tr>\n",
       "      <th>max</th>\n",
       "      <td>917.000000</td>\n",
       "      <td>2017.000000</td>\n",
       "      <td>20.000000</td>\n",
       "      <td>NaN</td>\n",
       "      <td>NaN</td>\n",
       "      <td>1154.230000</td>\n",
       "      <td>3215.010000</td>\n",
       "      <td>5653.830000</td>\n",
       "      <td>879.490000</td>\n",
       "      <td>4305.500000</td>\n",
       "      <td>...</td>\n",
       "      <td>22062.30000</td>\n",
       "      <td>800.890000</td>\n",
       "      <td>376.610000</td>\n",
       "      <td>5000.000000</td>\n",
       "      <td>159.540000</td>\n",
       "      <td>200.060000</td>\n",
       "      <td>240.990000</td>\n",
       "      <td>111.610000</td>\n",
       "      <td>131.350000</td>\n",
       "      <td>1162.660000</td>\n",
       "    </tr>\n",
       "  </tbody>\n",
       "</table>\n",
       "<p>11 rows × 80 columns</p>\n",
       "</div>"
      ],
      "text/plain": [
       "           Dist Code          Year    State Code     State Name Dist Name  \\\n",
       "count   16146.000000  16146.000000  16146.000000          16146     16146   \n",
       "unique           NaN           NaN           NaN             20       311   \n",
       "top              NaN           NaN           NaN  Uttar Pradesh      Durg   \n",
       "freq             NaN           NaN           NaN           2392        52   \n",
       "mean      269.769231   1991.496841      9.568562            NaN       NaN   \n",
       "std       278.309125     15.011185      4.988538            NaN       NaN   \n",
       "min         1.000000   1966.000000      1.000000            NaN       NaN   \n",
       "25%        78.000000   1978.000000      6.000000            NaN       NaN   \n",
       "50%       156.000000   1991.000000     10.000000            NaN       NaN   \n",
       "75%       241.000000   2005.000000     12.000000            NaN       NaN   \n",
       "max       917.000000   2017.000000     20.000000            NaN       NaN   \n",
       "\n",
       "        RICE AREA (1000 ha)  RICE PRODUCTION (1000 tons)  \\\n",
       "count          16146.000000                 16146.000000   \n",
       "unique                  NaN                          NaN   \n",
       "top                     NaN                          NaN   \n",
       "freq                    NaN                          NaN   \n",
       "mean             128.593192                   224.889565   \n",
       "std              160.078825                   326.629828   \n",
       "min               -1.000000                    -1.000000   \n",
       "25%               10.400000                     9.460000   \n",
       "50%               66.800000                    95.840000   \n",
       "75%              191.390000                   315.715000   \n",
       "max             1154.230000                  3215.010000   \n",
       "\n",
       "        RICE YIELD (Kg per ha)  WHEAT AREA (1000 ha)  \\\n",
       "count             16146.000000          16146.000000   \n",
       "unique                     NaN                   NaN   \n",
       "top                        NaN                   NaN   \n",
       "freq                       NaN                   NaN   \n",
       "mean               1486.924784             77.057946   \n",
       "std                 956.185281            100.394479   \n",
       "min                  -1.000000             -1.000000   \n",
       "25%                 800.000000              1.770000   \n",
       "50%                1333.210000             36.800000   \n",
       "75%                2113.517500            123.000000   \n",
       "max                5653.830000            879.490000   \n",
       "\n",
       "        WHEAT PRODUCTION (1000 tons)  ...  SUGARCANE YIELD (Kg per ha)  \\\n",
       "count                   16146.000000  ...                  16146.00000   \n",
       "unique                           NaN  ...                          NaN   \n",
       "top                              NaN  ...                          NaN   \n",
       "freq                             NaN  ...                          NaN   \n",
       "mean                      182.012746  ...                   4500.15306   \n",
       "std                       348.834254  ...                   3153.97042   \n",
       "min                        -1.000000  ...                     -1.00000   \n",
       "25%                         2.000000  ...                   2000.00000   \n",
       "50%                        42.700000  ...                   4502.21000   \n",
       "75%                       215.192500  ...                   6704.60500   \n",
       "max                      4305.500000  ...                  22062.30000   \n",
       "\n",
       "        COTTON AREA (1000 ha)  COTTON PRODUCTION (1000 tons)  \\\n",
       "count            16146.000000                   16146.000000   \n",
       "unique                    NaN                            NaN   \n",
       "top                       NaN                            NaN   \n",
       "freq                      NaN                            NaN   \n",
       "mean                28.018367                       7.229225   \n",
       "std                 74.239648                      25.042132   \n",
       "min                 -1.000000                      -1.000000   \n",
       "25%                  0.000000                       0.000000   \n",
       "50%                  0.050000                       0.000000   \n",
       "75%                 10.097500                       2.000000   \n",
       "max                800.890000                     376.610000   \n",
       "\n",
       "        COTTON YIELD (Kg per ha)  FRUITS AREA (1000 ha)  \\\n",
       "count               16146.000000           16146.000000   \n",
       "unique                       NaN                    NaN   \n",
       "top                          NaN                    NaN   \n",
       "freq                         NaN                    NaN   \n",
       "mean                  124.644823               7.750478   \n",
       "std                   207.681147              13.591135   \n",
       "min                    -1.000000              -1.000000   \n",
       "25%                     0.000000               0.310000   \n",
       "50%                     0.000000               2.220000   \n",
       "75%                   202.270000               8.790000   \n",
       "max                  5000.000000             159.540000   \n",
       "\n",
       "        VEGETABLES AREA (1000 ha)  FRUITS AND VEGETABLES AREA (1000 ha)  \\\n",
       "count                16146.000000                          16146.000000   \n",
       "unique                        NaN                                   NaN   \n",
       "top                           NaN                                   NaN   \n",
       "freq                          NaN                                   NaN   \n",
       "mean                    11.086250                             18.677877   \n",
       "std                     18.003257                             25.881842   \n",
       "min                     -1.000000                             -1.000000   \n",
       "25%                      1.600000                              2.520000   \n",
       "50%                      4.740000                              8.945000   \n",
       "75%                     12.510000                             23.570000   \n",
       "max                    200.060000                            240.990000   \n",
       "\n",
       "        POTATOES AREA (1000 ha)  ONION AREA (1000 ha)  FODDER AREA (1000 ha)  \n",
       "count              16146.000000          16146.000000           16146.000000  \n",
       "unique                      NaN                   NaN                    NaN  \n",
       "top                         NaN                   NaN                    NaN  \n",
       "freq                        NaN                   NaN                    NaN  \n",
       "mean                   3.177038              1.194604              21.550328  \n",
       "std                    8.029509              4.285067              60.062601  \n",
       "min                   -1.000000             -1.000000              -1.000000  \n",
       "25%                    0.000000              0.060000               0.000000  \n",
       "50%                    0.390000              0.280000               1.200000  \n",
       "75%                    3.150000              0.880000              16.762500  \n",
       "max                  111.610000            131.350000            1162.660000  \n",
       "\n",
       "[11 rows x 80 columns]"
      ]
     },
     "execution_count": 7,
     "metadata": {},
     "output_type": "execute_result"
    }
   ],
   "source": [
    "data.describe(include = \"all\")"
   ]
  },
  {
   "cell_type": "markdown",
   "id": "d888ea26-5140-46f8-82b6-153856348820",
   "metadata": {},
   "source": [
    "##### Rice Production per State"
   ]
  },
  {
   "cell_type": "code",
   "execution_count": 8,
   "id": "62977ea7-6c03-431e-8e9d-73040dededb9",
   "metadata": {},
   "outputs": [
    {
     "data": {
      "text/html": [
       "<div>\n",
       "<style scoped>\n",
       "    .dataframe tbody tr th:only-of-type {\n",
       "        vertical-align: middle;\n",
       "    }\n",
       "\n",
       "    .dataframe tbody tr th {\n",
       "        vertical-align: top;\n",
       "    }\n",
       "\n",
       "    .dataframe thead th {\n",
       "        text-align: right;\n",
       "    }\n",
       "</style>\n",
       "<table border=\"1\" class=\"dataframe\">\n",
       "  <thead>\n",
       "    <tr style=\"text-align: right;\">\n",
       "      <th></th>\n",
       "      <th>State Name</th>\n",
       "      <th>RICE PRODUCTION (1000 tons)</th>\n",
       "    </tr>\n",
       "  </thead>\n",
       "  <tbody>\n",
       "    <tr>\n",
       "      <th>0</th>\n",
       "      <td>West Bengal</td>\n",
       "      <td>544232.26</td>\n",
       "    </tr>\n",
       "    <tr>\n",
       "      <th>1</th>\n",
       "      <td>Uttar Pradesh</td>\n",
       "      <td>445597.62</td>\n",
       "    </tr>\n",
       "    <tr>\n",
       "      <th>2</th>\n",
       "      <td>Punjab</td>\n",
       "      <td>335040.10</td>\n",
       "    </tr>\n",
       "    <tr>\n",
       "      <th>3</th>\n",
       "      <td>Andhra Pradesh</td>\n",
       "      <td>315185.40</td>\n",
       "    </tr>\n",
       "    <tr>\n",
       "      <th>4</th>\n",
       "      <td>Tamil Nadu</td>\n",
       "      <td>291201.51</td>\n",
       "    </tr>\n",
       "    <tr>\n",
       "      <th>5</th>\n",
       "      <td>Orissa</td>\n",
       "      <td>282532.93</td>\n",
       "    </tr>\n",
       "    <tr>\n",
       "      <th>6</th>\n",
       "      <td>Bihar</td>\n",
       "      <td>231759.00</td>\n",
       "    </tr>\n",
       "  </tbody>\n",
       "</table>\n",
       "</div>"
      ],
      "text/plain": [
       "       State Name  RICE PRODUCTION (1000 tons)\n",
       "0     West Bengal                    544232.26\n",
       "1   Uttar Pradesh                    445597.62\n",
       "2          Punjab                    335040.10\n",
       "3  Andhra Pradesh                    315185.40\n",
       "4      Tamil Nadu                    291201.51\n",
       "5          Orissa                    282532.93\n",
       "6           Bihar                    231759.00"
      ]
     },
     "execution_count": 8,
     "metadata": {},
     "output_type": "execute_result"
    }
   ],
   "source": [
    "rice = data.groupby(\"State Name\")[\"RICE PRODUCTION (1000 tons)\"].sum().sort_values(ascending = False).head(7)\n",
    "top_rice = pd.DataFrame(rice)\n",
    "top_rice = top_rice.reset_index()\n",
    "top_rice"
   ]
  },
  {
   "cell_type": "code",
   "execution_count": 9,
   "id": "92649d5f-ed35-4509-ae86-a2f8e4eec763",
   "metadata": {},
   "outputs": [
    {
     "data": {
      "image/png": "[encoded data removed]",
      "text/plain": [
       "<Figure size 1000x400 with 1 Axes>"
      ]
     },
     "metadata": {},
     "output_type": "display_data"
    }
   ],
   "source": [
    "plt.figure(figsize=(10,4))\n",
    "a = sns.barplot(x =\"State Name\", y = \"RICE PRODUCTION (1000 tons)\",data= top_rice,hue = \"State Name\" )\n",
    "for x in a.containers:\n",
    "    a.bar_label(x)\n",
    "plt.title('Top 7 RICE PRODUCTION State Data',fontsize=18,weight='bold')\n",
    "plt.xlabel('State Names',fontsize=15,weight='bold')\n",
    "plt.ylabel('Total_productions',fontsize=15,weight='bold')\n",
    "plt.xticks(rotation=45,ha='right',fontsize=9,weight='bold')\n",
    "plt.show()"
   ]
  },
  {
   "cell_type": "markdown",
   "id": "0a0d5db9-3918-4905-8c61-e89a50658d51",
   "metadata": {},
   "source": [
    "##### Conclusion : West Bengal is the state which produces highest amount of Rice"
   ]
  },
  {
   "cell_type": "markdown",
   "id": "8fc04824-b421-4fe5-aa44-0a64de4a4587",
   "metadata": {},
   "source": [
    "#### Wheat Production per state"
   ]
  },
  {
   "cell_type": "code",
   "execution_count": 10,
   "id": "85038f46-17c8-45f4-a45b-5daf40f61f43",
   "metadata": {},
   "outputs": [
    {
     "data": {
      "text/html": [
       "<div>\n",
       "<style scoped>\n",
       "    .dataframe tbody tr th:only-of-type {\n",
       "        vertical-align: middle;\n",
       "    }\n",
       "\n",
       "    .dataframe tbody tr th {\n",
       "        vertical-align: top;\n",
       "    }\n",
       "\n",
       "    .dataframe thead th {\n",
       "        text-align: right;\n",
       "    }\n",
       "</style>\n",
       "<table border=\"1\" class=\"dataframe\">\n",
       "  <thead>\n",
       "    <tr style=\"text-align: right;\">\n",
       "      <th></th>\n",
       "      <th>State Name</th>\n",
       "      <th>WHEAT PRODUCTION (1000 tons)</th>\n",
       "    </tr>\n",
       "  </thead>\n",
       "  <tbody>\n",
       "    <tr>\n",
       "      <th>0</th>\n",
       "      <td>Uttar Pradesh</td>\n",
       "      <td>970210.07</td>\n",
       "    </tr>\n",
       "    <tr>\n",
       "      <th>1</th>\n",
       "      <td>Punjab</td>\n",
       "      <td>593848.90</td>\n",
       "    </tr>\n",
       "    <tr>\n",
       "      <th>2</th>\n",
       "      <td>Haryana</td>\n",
       "      <td>348429.60</td>\n",
       "    </tr>\n",
       "    <tr>\n",
       "      <th>3</th>\n",
       "      <td>Madhya Pradesh</td>\n",
       "      <td>338644.25</td>\n",
       "    </tr>\n",
       "    <tr>\n",
       "      <th>4</th>\n",
       "      <td>Rajasthan</td>\n",
       "      <td>265994.99</td>\n",
       "    </tr>\n",
       "  </tbody>\n",
       "</table>\n",
       "</div>"
      ],
      "text/plain": [
       "       State Name  WHEAT PRODUCTION (1000 tons)\n",
       "0   Uttar Pradesh                     970210.07\n",
       "1          Punjab                     593848.90\n",
       "2         Haryana                     348429.60\n",
       "3  Madhya Pradesh                     338644.25\n",
       "4       Rajasthan                     265994.99"
      ]
     },
     "execution_count": 10,
     "metadata": {},
     "output_type": "execute_result"
    }
   ],
   "source": [
    "wheat = data.groupby(\"State Name\")[\"WHEAT PRODUCTION (1000 tons)\"].sum().sort_values(ascending = False).head(5)\n",
    "top_wheat = pd.DataFrame(wheat)\n",
    "top_wheat = top_wheat.reset_index()\n",
    "top_wheat"
   ]
  },
  {
   "cell_type": "code",
   "execution_count": 11,
   "id": "f1bce1b4-8e09-4272-8013-3bdf15f77b17",
   "metadata": {},
   "outputs": [
    {
     "data": {
      "image/png": "[encoded data removed]",
      "text/plain": [
       "<Figure size 1000x400 with 1 Axes>"
      ]
     },
     "metadata": {},
     "output_type": "display_data"
    }
   ],
   "source": [
    "plt.figure(figsize=(10,4))\n",
    "b = sns.barplot(x =\"State Name\", y = \"WHEAT PRODUCTION (1000 tons)\",data= top_wheat,hue = \"State Name\" )\n",
    "for x in b.containers:\n",
    "    b.bar_label(x)\n",
    "plt.title('Top 5 WHEAT PRODUCTION State Data',fontsize=18,weight='bold')\n",
    "plt.xlabel('State Names',fontsize=15,weight='bold')\n",
    "plt.ylabel('Total_productions',fontsize=15,weight='bold')\n",
    "plt.xticks(rotation=45,ha='right',fontsize=9,weight='bold')\n",
    "plt.show()"
   ]
  },
  {
   "cell_type": "code",
   "execution_count": 12,
   "id": "ce6d4b8f-61be-4270-a178-5a2bd20d6bdc",
   "metadata": {},
   "outputs": [
    {
     "data": {
      "image/png": "[encoded data removed]",
      "text/plain": [
       "<Figure size 640x480 with 1 Axes>"
      ]
     },
     "metadata": {},
     "output_type": "display_data"
    }
   ],
   "source": [
    "labels = top_wheat[\"State Name\"]\n",
    "sizes = top_wheat[\"WHEAT PRODUCTION (1000 tons)\"]\n",
    "colors = ['orange', 'gray', 'brown', 'lightyellow', 'hotpink']\n",
    "explode = (0.05, 0, 0, 0, 0)\n",
    "plt.pie(sizes, explode = explode,labels = labels, colors = colors,autopct = '%1.1f%%',startangle = 70, shadow = True)\n",
    "plt.title('Wheat Production by Top 5 States %', fontweight='bold', color='navy')\n",
    "plt.axis('equal')\n",
    "plt.show()"
   ]
  },
  {
   "cell_type": "markdown",
   "id": "fb90aeef-d0c1-44eb-a33a-aa1af9a2afc6",
   "metadata": {},
   "source": [
    "##### Conclusion : Uttar Pradesh produced the larger amount of wheat."
   ]
  },
  {
   "cell_type": "code",
   "execution_count": 13,
   "id": "4dcf8e84-102f-4070-9158-2231cfef420e",
   "metadata": {},
   "outputs": [
    {
     "data": {
      "text/html": [
       "<div>\n",
       "<style scoped>\n",
       "    .dataframe tbody tr th:only-of-type {\n",
       "        vertical-align: middle;\n",
       "    }\n",
       "\n",
       "    .dataframe tbody tr th {\n",
       "        vertical-align: top;\n",
       "    }\n",
       "\n",
       "    .dataframe thead th {\n",
       "        text-align: right;\n",
       "    }\n",
       "</style>\n",
       "<table border=\"1\" class=\"dataframe\">\n",
       "  <thead>\n",
       "    <tr style=\"text-align: right;\">\n",
       "      <th></th>\n",
       "      <th>Dist Code</th>\n",
       "      <th>Year</th>\n",
       "      <th>State Code</th>\n",
       "      <th>State Name</th>\n",
       "      <th>Dist Name</th>\n",
       "      <th>RICE AREA (1000 ha)</th>\n",
       "      <th>RICE PRODUCTION (1000 tons)</th>\n",
       "      <th>RICE YIELD (Kg per ha)</th>\n",
       "      <th>WHEAT AREA (1000 ha)</th>\n",
       "      <th>WHEAT PRODUCTION (1000 tons)</th>\n",
       "      <th>...</th>\n",
       "      <th>SUGARCANE YIELD (Kg per ha)</th>\n",
       "      <th>COTTON AREA (1000 ha)</th>\n",
       "      <th>COTTON PRODUCTION (1000 tons)</th>\n",
       "      <th>COTTON YIELD (Kg per ha)</th>\n",
       "      <th>FRUITS AREA (1000 ha)</th>\n",
       "      <th>VEGETABLES AREA (1000 ha)</th>\n",
       "      <th>FRUITS AND VEGETABLES AREA (1000 ha)</th>\n",
       "      <th>POTATOES AREA (1000 ha)</th>\n",
       "      <th>ONION AREA (1000 ha)</th>\n",
       "      <th>FODDER AREA (1000 ha)</th>\n",
       "    </tr>\n",
       "  </thead>\n",
       "  <tbody>\n",
       "    <tr>\n",
       "      <th>0</th>\n",
       "      <td>1</td>\n",
       "      <td>1966</td>\n",
       "      <td>14</td>\n",
       "      <td>Chhattisgarh</td>\n",
       "      <td>Durg</td>\n",
       "      <td>548.0</td>\n",
       "      <td>185.0</td>\n",
       "      <td>337.59</td>\n",
       "      <td>44.0</td>\n",
       "      <td>20.0</td>\n",
       "      <td>...</td>\n",
       "      <td>1777.78</td>\n",
       "      <td>0.0</td>\n",
       "      <td>0.0</td>\n",
       "      <td>0.0</td>\n",
       "      <td>5.95</td>\n",
       "      <td>6.64</td>\n",
       "      <td>12.59</td>\n",
       "      <td>0.01</td>\n",
       "      <td>0.60</td>\n",
       "      <td>0.47</td>\n",
       "    </tr>\n",
       "    <tr>\n",
       "      <th>1</th>\n",
       "      <td>1</td>\n",
       "      <td>1967</td>\n",
       "      <td>14</td>\n",
       "      <td>Chhattisgarh</td>\n",
       "      <td>Durg</td>\n",
       "      <td>547.0</td>\n",
       "      <td>409.0</td>\n",
       "      <td>747.71</td>\n",
       "      <td>50.0</td>\n",
       "      <td>26.0</td>\n",
       "      <td>...</td>\n",
       "      <td>1500.00</td>\n",
       "      <td>0.0</td>\n",
       "      <td>0.0</td>\n",
       "      <td>0.0</td>\n",
       "      <td>5.77</td>\n",
       "      <td>7.24</td>\n",
       "      <td>13.02</td>\n",
       "      <td>0.01</td>\n",
       "      <td>0.56</td>\n",
       "      <td>1.23</td>\n",
       "    </tr>\n",
       "    <tr>\n",
       "      <th>2</th>\n",
       "      <td>1</td>\n",
       "      <td>1968</td>\n",
       "      <td>14</td>\n",
       "      <td>Chhattisgarh</td>\n",
       "      <td>Durg</td>\n",
       "      <td>556.3</td>\n",
       "      <td>468.0</td>\n",
       "      <td>841.27</td>\n",
       "      <td>53.7</td>\n",
       "      <td>30.0</td>\n",
       "      <td>...</td>\n",
       "      <td>1000.00</td>\n",
       "      <td>0.0</td>\n",
       "      <td>0.0</td>\n",
       "      <td>0.0</td>\n",
       "      <td>5.41</td>\n",
       "      <td>7.40</td>\n",
       "      <td>12.81</td>\n",
       "      <td>0.10</td>\n",
       "      <td>0.58</td>\n",
       "      <td>1.02</td>\n",
       "    </tr>\n",
       "    <tr>\n",
       "      <th>3</th>\n",
       "      <td>1</td>\n",
       "      <td>1969</td>\n",
       "      <td>14</td>\n",
       "      <td>Chhattisgarh</td>\n",
       "      <td>Durg</td>\n",
       "      <td>563.4</td>\n",
       "      <td>400.8</td>\n",
       "      <td>711.40</td>\n",
       "      <td>49.4</td>\n",
       "      <td>26.5</td>\n",
       "      <td>...</td>\n",
       "      <td>1900.00</td>\n",
       "      <td>0.0</td>\n",
       "      <td>0.0</td>\n",
       "      <td>0.0</td>\n",
       "      <td>5.52</td>\n",
       "      <td>7.16</td>\n",
       "      <td>12.69</td>\n",
       "      <td>0.01</td>\n",
       "      <td>0.56</td>\n",
       "      <td>0.84</td>\n",
       "    </tr>\n",
       "    <tr>\n",
       "      <th>4</th>\n",
       "      <td>1</td>\n",
       "      <td>1970</td>\n",
       "      <td>14</td>\n",
       "      <td>Chhattisgarh</td>\n",
       "      <td>Durg</td>\n",
       "      <td>571.6</td>\n",
       "      <td>473.6</td>\n",
       "      <td>828.55</td>\n",
       "      <td>44.2</td>\n",
       "      <td>29.0</td>\n",
       "      <td>...</td>\n",
       "      <td>2000.00</td>\n",
       "      <td>0.0</td>\n",
       "      <td>0.0</td>\n",
       "      <td>0.0</td>\n",
       "      <td>5.45</td>\n",
       "      <td>7.19</td>\n",
       "      <td>12.64</td>\n",
       "      <td>0.02</td>\n",
       "      <td>0.52</td>\n",
       "      <td>0.42</td>\n",
       "    </tr>\n",
       "  </tbody>\n",
       "</table>\n",
       "<p>5 rows × 80 columns</p>\n",
       "</div>"
      ],
      "text/plain": [
       "   Dist Code  Year  State Code    State Name Dist Name  RICE AREA (1000 ha)  \\\n",
       "0          1  1966          14  Chhattisgarh      Durg                548.0   \n",
       "1          1  1967          14  Chhattisgarh      Durg                547.0   \n",
       "2          1  1968          14  Chhattisgarh      Durg                556.3   \n",
       "3          1  1969          14  Chhattisgarh      Durg                563.4   \n",
       "4          1  1970          14  Chhattisgarh      Durg                571.6   \n",
       "\n",
       "   RICE PRODUCTION (1000 tons)  RICE YIELD (Kg per ha)  WHEAT AREA (1000 ha)  \\\n",
       "0                        185.0                  337.59                  44.0   \n",
       "1                        409.0                  747.71                  50.0   \n",
       "2                        468.0                  841.27                  53.7   \n",
       "3                        400.8                  711.40                  49.4   \n",
       "4                        473.6                  828.55                  44.2   \n",
       "\n",
       "   WHEAT PRODUCTION (1000 tons)  ...  SUGARCANE YIELD (Kg per ha)  \\\n",
       "0                          20.0  ...                      1777.78   \n",
       "1                          26.0  ...                      1500.00   \n",
       "2                          30.0  ...                      1000.00   \n",
       "3                          26.5  ...                      1900.00   \n",
       "4                          29.0  ...                      2000.00   \n",
       "\n",
       "   COTTON AREA (1000 ha)  COTTON PRODUCTION (1000 tons)  \\\n",
       "0                    0.0                            0.0   \n",
       "1                    0.0                            0.0   \n",
       "2                    0.0                            0.0   \n",
       "3                    0.0                            0.0   \n",
       "4                    0.0                            0.0   \n",
       "\n",
       "   COTTON YIELD (Kg per ha)  FRUITS AREA (1000 ha)  VEGETABLES AREA (1000 ha)  \\\n",
       "0                       0.0                   5.95                       6.64   \n",
       "1                       0.0                   5.77                       7.24   \n",
       "2                       0.0                   5.41                       7.40   \n",
       "3                       0.0                   5.52                       7.16   \n",
       "4                       0.0                   5.45                       7.19   \n",
       "\n",
       "   FRUITS AND VEGETABLES AREA (1000 ha)  POTATOES AREA (1000 ha)  \\\n",
       "0                                 12.59                     0.01   \n",
       "1                                 13.02                     0.01   \n",
       "2                                 12.81                     0.10   \n",
       "3                                 12.69                     0.01   \n",
       "4                                 12.64                     0.02   \n",
       "\n",
       "   ONION AREA (1000 ha)  FODDER AREA (1000 ha)  \n",
       "0                  0.60                   0.47  \n",
       "1                  0.56                   1.23  \n",
       "2                  0.58                   1.02  \n",
       "3                  0.56                   0.84  \n",
       "4                  0.52                   0.42  \n",
       "\n",
       "[5 rows x 80 columns]"
      ]
     },
     "execution_count": 13,
     "metadata": {},
     "output_type": "execute_result"
    }
   ],
   "source": [
    "data.head()"
   ]
  },
  {
   "cell_type": "markdown",
   "id": "4adb65bb-2a08-4f05-b2c4-b76b80a0e2ec",
   "metadata": {},
   "source": [
    "#### Finding unique States Names"
   ]
  },
  {
   "cell_type": "code",
   "execution_count": 13,
   "id": "dbeaddc4-7283-447d-ba84-0fcf5a9ae379",
   "metadata": {},
   "outputs": [
    {
     "data": {
      "text/plain": [
       "array(['Chhattisgarh', 'Madhya Pradesh', 'Andhra Pradesh', 'Telangana',\n",
       "       'Karnataka', 'Tamil Nadu', 'Maharashtra', 'Gujarat', 'Rajasthan',\n",
       "       'Punjab', 'Haryana', 'Uttar Pradesh', 'Uttarakhand', 'Assam',\n",
       "       'Himachal Pradesh', 'Kerala', 'Orissa', 'West Bengal', 'Bihar',\n",
       "       'Jharkhand'], dtype=object)"
      ]
     },
     "execution_count": 13,
     "metadata": {},
     "output_type": "execute_result"
    }
   ],
   "source": [
    "data[\"State Name\"].unique()"
   ]
  },
  {
   "cell_type": "markdown",
   "id": "b7199d37-46fa-4f2b-a301-d03430c9186f",
   "metadata": {},
   "source": [
    "#### Oilseeds Production per State"
   ]
  },
  {
   "cell_type": "code",
   "execution_count": 14,
   "id": "77a61ae5-1811-4062-8238-8bfd3f75fb49",
   "metadata": {},
   "outputs": [
    {
     "data": {
      "text/html": [
       "<div>\n",
       "<style scoped>\n",
       "    .dataframe tbody tr th:only-of-type {\n",
       "        vertical-align: middle;\n",
       "    }\n",
       "\n",
       "    .dataframe tbody tr th {\n",
       "        vertical-align: top;\n",
       "    }\n",
       "\n",
       "    .dataframe thead th {\n",
       "        text-align: right;\n",
       "    }\n",
       "</style>\n",
       "<table border=\"1\" class=\"dataframe\">\n",
       "  <thead>\n",
       "    <tr style=\"text-align: right;\">\n",
       "      <th></th>\n",
       "      <th>State Name</th>\n",
       "      <th>OILSEEDS PRODUCTION (1000 tons)</th>\n",
       "    </tr>\n",
       "  </thead>\n",
       "  <tbody>\n",
       "    <tr>\n",
       "      <th>0</th>\n",
       "      <td>Madhya Pradesh</td>\n",
       "      <td>153594.79</td>\n",
       "    </tr>\n",
       "    <tr>\n",
       "      <th>1</th>\n",
       "      <td>Gujarat</td>\n",
       "      <td>126224.01</td>\n",
       "    </tr>\n",
       "    <tr>\n",
       "      <th>2</th>\n",
       "      <td>Rajasthan</td>\n",
       "      <td>122726.86</td>\n",
       "    </tr>\n",
       "    <tr>\n",
       "      <th>3</th>\n",
       "      <td>Maharashtra</td>\n",
       "      <td>95567.91</td>\n",
       "    </tr>\n",
       "    <tr>\n",
       "      <th>4</th>\n",
       "      <td>Andhra Pradesh</td>\n",
       "      <td>76888.09</td>\n",
       "    </tr>\n",
       "  </tbody>\n",
       "</table>\n",
       "</div>"
      ],
      "text/plain": [
       "       State Name  OILSEEDS PRODUCTION (1000 tons)\n",
       "0  Madhya Pradesh                        153594.79\n",
       "1         Gujarat                        126224.01\n",
       "2       Rajasthan                        122726.86\n",
       "3     Maharashtra                         95567.91\n",
       "4  Andhra Pradesh                         76888.09"
      ]
     },
     "execution_count": 14,
     "metadata": {},
     "output_type": "execute_result"
    }
   ],
   "source": [
    "oils = data.groupby(\"State Name\")[\"OILSEEDS PRODUCTION (1000 tons)\"].sum().sort_values(ascending = False).head(5)\n",
    "top_oils = pd.DataFrame(oils)\n",
    "top_oils = top_oils.reset_index()\n",
    "top_oils"
   ]
  },
  {
   "cell_type": "code",
   "execution_count": 15,
   "id": "4c9f2481-951d-4109-b7ea-466d6782323b",
   "metadata": {},
   "outputs": [
    {
     "data": {
      "image/png": "[encoded data removed]",
      "text/plain": [
       "<Figure size 640x480 with 1 Axes>"
      ]
     },
     "metadata": {},
     "output_type": "display_data"
    }
   ],
   "source": [
    "labels = top_oils[\"State Name\"]\n",
    "sizes = top_oils[\"OILSEEDS PRODUCTION (1000 tons)\"]\n",
    "colors = ['skyblue','yellow','blue','violet','lightgreen']\n",
    "explode = (0.07, 0, 0, 0, 0)\n",
    "plt.pie(sizes, explode = explode,labels = labels, colors = colors,autopct = '%1.1f%%',startangle = 70, shadow = True)\n",
    "plt.title('Oilseeds Production by Top 5 States %', fontweight='bold', color='navy')\n",
    "plt.axis('equal')\n",
    "plt.show()"
   ]
  },
  {
   "cell_type": "markdown",
   "id": "cc38fe60-039f-4141-9a4e-426d0842e2f2",
   "metadata": {},
   "source": [
    "##### Conclusion: Madhya Pradesh have highest oilseeds production."
   ]
  },
  {
   "cell_type": "code",
   "execution_count": 16,
   "id": "495fc2ee-b148-47a3-a151-4623396598ea",
   "metadata": {},
   "outputs": [
    {
     "data": {
      "text/html": [
       "<div>\n",
       "<style scoped>\n",
       "    .dataframe tbody tr th:only-of-type {\n",
       "        vertical-align: middle;\n",
       "    }\n",
       "\n",
       "    .dataframe tbody tr th {\n",
       "        vertical-align: top;\n",
       "    }\n",
       "\n",
       "    .dataframe thead th {\n",
       "        text-align: right;\n",
       "    }\n",
       "</style>\n",
       "<table border=\"1\" class=\"dataframe\">\n",
       "  <thead>\n",
       "    <tr style=\"text-align: right;\">\n",
       "      <th></th>\n",
       "      <th>Year</th>\n",
       "      <th>COTTON PRODUCTION (1000 tons)</th>\n",
       "    </tr>\n",
       "  </thead>\n",
       "  <tbody>\n",
       "    <tr>\n",
       "      <th>0</th>\n",
       "      <td>1966</td>\n",
       "      <td>2.782065</td>\n",
       "    </tr>\n",
       "    <tr>\n",
       "      <th>1</th>\n",
       "      <td>1967</td>\n",
       "      <td>3.074387</td>\n",
       "    </tr>\n",
       "    <tr>\n",
       "      <th>2</th>\n",
       "      <td>1968</td>\n",
       "      <td>3.000806</td>\n",
       "    </tr>\n",
       "    <tr>\n",
       "      <th>3</th>\n",
       "      <td>1969</td>\n",
       "      <td>3.024129</td>\n",
       "    </tr>\n",
       "    <tr>\n",
       "      <th>4</th>\n",
       "      <td>1970</td>\n",
       "      <td>2.767106</td>\n",
       "    </tr>\n",
       "    <tr>\n",
       "      <th>5</th>\n",
       "      <td>1971</td>\n",
       "      <td>4.166720</td>\n",
       "    </tr>\n",
       "    <tr>\n",
       "      <th>6</th>\n",
       "      <td>1972</td>\n",
       "      <td>3.388521</td>\n",
       "    </tr>\n",
       "    <tr>\n",
       "      <th>7</th>\n",
       "      <td>1973</td>\n",
       "      <td>3.610418</td>\n",
       "    </tr>\n",
       "    <tr>\n",
       "      <th>8</th>\n",
       "      <td>1974</td>\n",
       "      <td>3.975852</td>\n",
       "    </tr>\n",
       "    <tr>\n",
       "      <th>9</th>\n",
       "      <td>1975</td>\n",
       "      <td>3.464598</td>\n",
       "    </tr>\n",
       "    <tr>\n",
       "      <th>10</th>\n",
       "      <td>1976</td>\n",
       "      <td>3.454791</td>\n",
       "    </tr>\n",
       "    <tr>\n",
       "      <th>11</th>\n",
       "      <td>1977</td>\n",
       "      <td>4.033376</td>\n",
       "    </tr>\n",
       "    <tr>\n",
       "      <th>12</th>\n",
       "      <td>1978</td>\n",
       "      <td>4.262862</td>\n",
       "    </tr>\n",
       "    <tr>\n",
       "      <th>13</th>\n",
       "      <td>1979</td>\n",
       "      <td>4.111415</td>\n",
       "    </tr>\n",
       "    <tr>\n",
       "      <th>14</th>\n",
       "      <td>1980</td>\n",
       "      <td>3.799293</td>\n",
       "    </tr>\n",
       "    <tr>\n",
       "      <th>15</th>\n",
       "      <td>1981</td>\n",
       "      <td>4.311254</td>\n",
       "    </tr>\n",
       "    <tr>\n",
       "      <th>16</th>\n",
       "      <td>1982</td>\n",
       "      <td>4.070932</td>\n",
       "    </tr>\n",
       "    <tr>\n",
       "      <th>17</th>\n",
       "      <td>1983</td>\n",
       "      <td>3.450000</td>\n",
       "    </tr>\n",
       "    <tr>\n",
       "      <th>18</th>\n",
       "      <td>1984</td>\n",
       "      <td>4.593762</td>\n",
       "    </tr>\n",
       "    <tr>\n",
       "      <th>19</th>\n",
       "      <td>1985</td>\n",
       "      <td>4.749357</td>\n",
       "    </tr>\n",
       "  </tbody>\n",
       "</table>\n",
       "</div>"
      ],
      "text/plain": [
       "    Year  COTTON PRODUCTION (1000 tons)\n",
       "0   1966                       2.782065\n",
       "1   1967                       3.074387\n",
       "2   1968                       3.000806\n",
       "3   1969                       3.024129\n",
       "4   1970                       2.767106\n",
       "5   1971                       4.166720\n",
       "6   1972                       3.388521\n",
       "7   1973                       3.610418\n",
       "8   1974                       3.975852\n",
       "9   1975                       3.464598\n",
       "10  1976                       3.454791\n",
       "11  1977                       4.033376\n",
       "12  1978                       4.262862\n",
       "13  1979                       4.111415\n",
       "14  1980                       3.799293\n",
       "15  1981                       4.311254\n",
       "16  1982                       4.070932\n",
       "17  1983                       3.450000\n",
       "18  1984                       4.593762\n",
       "19  1985                       4.749357"
      ]
     },
     "execution_count": 16,
     "metadata": {},
     "output_type": "execute_result"
    }
   ],
   "source": [
    "cot = data.groupby(\"Year\")[\"COTTON PRODUCTION (1000 tons)\"].mean().reset_index()\n",
    "cot.head(20)"
   ]
  },
  {
   "cell_type": "markdown",
   "id": "0b7589a7-c857-4cec-bf34-40e5541b79e2",
   "metadata": {},
   "source": [
    "#### Analyzing trend of Cotton Production from last 50 years"
   ]
  },
  {
   "cell_type": "code",
   "execution_count": 19,
   "id": "c8d5576c-41e5-4280-9819-eb25c78134d8",
   "metadata": {},
   "outputs": [
    {
     "data": {
      "application/vnd.plotly.v1+json": {
       "config": {
        "plotlyServerURL": "https://plot.ly"
       },
       "data": [
        {
         "line": {
          "color": "red",
          "width": 2
         },
         "mode": "lines+markers",
         "name": "Rapeseed and Mustard Production",
         "type": "scatter",
         "x": [
          1966,
          1967,
          1968,
          1969,
          1970,
          1971,
          1972,
          1973,
          1974,
          1975,
          1976,
          1977,
          1978,
          1979,
          1980,
          1981,
          1982,
          1983,
          1984,
          1985,
          1986,
          1987,
          1988,
          1989,
          1990,
          1991,
          1992,
          1993,
          1994,
          1995,
          1996,
          1997,
          1998,
          1999,
          2000,
          2001,
          2002,
          2003,
          2004,
          2005,
          2006,
          2007,
          2008,
          2009,
          2010,
          2011,
          2012,
          2013,
          2014,
          2015,
          2016,
          2017
         ],
         "y": [
          2.7820645161290325,
          3.0743870967741938,
          3.0008064516129034,
          3.0241290322580645,
          2.767106109324759,
          4.166720257234727,
          3.3885209003215433,
          3.610418006430868,
          3.9758520900321543,
          3.46459807073955,
          3.454790996784566,
          4.033376205787782,
          4.262861736334405,
          4.111414790996784,
          3.7992926045016073,
          4.311254019292605,
          4.070932475884244,
          3.45,
          4.5937620578778136,
          4.74935691318328,
          3.8444051446945333,
          3.5560128617363347,
          4.741382636655948,
          6.257041800643087,
          5.578677419354839,
          5.431387096774194,
          6.308096774193548,
          6.138741935483871,
          5.182548387096774,
          7.238059210526315,
          7.936459016393442,
          5.96508038585209,
          6.759260450160772,
          6.271189710610932,
          5.237717041800643,
          5.390032154340836,
          4.810610932475884,
          7.496430868167202,
          9.347395498392283,
          10.128038585209003,
          11.813762057877813,
          14.095755627009645,
          12.175916398713827,
          12.248810289389068,
          15.516173633440514,
          16.106881028938908,
          13.50588424437299,
          19.298032258064516,
          15.40532258064516,
          12.222774193548387,
          17.413987138263664,
          18.458387096774196
         ]
        }
       ],
       "layout": {
        "autosize": true,
        "template": {
         "data": {
          "bar": [
           {
            "error_x": {
             "color": "#f2f5fa"
            },
            "error_y": {
             "color": "#f2f5fa"
            },
            "marker": {
             "line": {
              "color": "rgb(17,17,17)",
              "width": 0.5
             },
             "pattern": {
              "fillmode": "overlay",
              "size": 10,
              "solidity": 0.2
             }
            },
            "type": "bar"
           }
          ],
          "barpolar": [
           {
            "marker": {
             "line": {
              "color": "rgb(17,17,17)",
              "width": 0.5
             },
             "pattern": {
              "fillmode": "overlay",
              "size": 10,
              "solidity": 0.2
             }
            },
            "type": "barpolar"
           }
          ],
          "carpet": [
           {
            "aaxis": {
             "endlinecolor": "#A2B1C6",
             "gridcolor": "#506784",
             "linecolor": "#506784",
             "minorgridcolor": "#506784",
             "startlinecolor": "#A2B1C6"
            },
            "baxis": {
             "endlinecolor": "#A2B1C6",
             "gridcolor": "#506784",
             "linecolor": "#506784",
             "minorgridcolor": "#506784",
             "startlinecolor": "#A2B1C6"
            },
            "type": "carpet"
           }
          ],
          "choropleth": [
           {
            "colorbar": {
             "outlinewidth": 0,
             "ticks": ""
            },
            "type": "choropleth"
           }
          ],
          "contour": [
           {
            "colorbar": {
             "outlinewidth": 0,
             "ticks": ""
            },
            "colorscale": [
             [
              0,
              "#0d0887"
             ],
             [
              0.1111111111111111,
              "#46039f"
             ],
             [
              0.2222222222222222,
              "#7201a8"
             ],
             [
              0.3333333333333333,
              "#9c179e"
             ],
             [
              0.4444444444444444,
              "#bd3786"
             ],
             [
              0.5555555555555556,
              "#d8576b"
             ],
             [
              0.6666666666666666,
              "#ed7953"
             ],
             [
              0.7777777777777778,
              "#fb9f3a"
             ],
             [
              0.8888888888888888,
              "#fdca26"
             ],
             [
              1,
              "#f0f921"
             ]
            ],
            "type": "contour"
           }
          ],
          "contourcarpet": [
           {
            "colorbar": {
             "outlinewidth": 0,
             "ticks": ""
            },
            "type": "contourcarpet"
           }
          ],
          "heatmap": [
           {
            "colorbar": {
             "outlinewidth": 0,
             "ticks": ""
            },
            "colorscale": [
             [
              0,
              "#0d0887"
             ],
             [
              0.1111111111111111,
              "#46039f"
             ],
             [
              0.2222222222222222,
              "#7201a8"
             ],
             [
              0.3333333333333333,
              "#9c179e"
             ],
             [
              0.4444444444444444,
              "#bd3786"
             ],
             [
              0.5555555555555556,
              "#d8576b"
             ],
             [
              0.6666666666666666,
              "#ed7953"
             ],
             [
              0.7777777777777778,
              "#fb9f3a"
             ],
             [
              0.8888888888888888,
              "#fdca26"
             ],
             [
              1,
              "#f0f921"
             ]
            ],
            "type": "heatmap"
           }
          ],
          "heatmapgl": [
           {
            "colorbar": {
             "outlinewidth": 0,
             "ticks": ""
            },
            "colorscale": [
             [
              0,
              "#0d0887"
             ],
             [
              0.1111111111111111,
              "#46039f"
             ],
             [
              0.2222222222222222,
              "#7201a8"
             ],
             [
              0.3333333333333333,
              "#9c179e"
             ],
             [
              0.4444444444444444,
              "#bd3786"
             ],
             [
              0.5555555555555556,
              "#d8576b"
             ],
             [
              0.6666666666666666,
              "#ed7953"
             ],
             [
              0.7777777777777778,
              "#fb9f3a"
             ],
             [
              0.8888888888888888,
              "#fdca26"
             ],
             [
              1,
              "#f0f921"
             ]
            ],
            "type": "heatmapgl"
           }
          ],
          "histogram": [
           {
            "marker": {
             "pattern": {
              "fillmode": "overlay",
              "size": 10,
              "solidity": 0.2
             }
            },
            "type": "histogram"
           }
          ],
          "histogram2d": [
           {
            "colorbar": {
             "outlinewidth": 0,
             "ticks": ""
            },
            "colorscale": [
             [
              0,
              "#0d0887"
             ],
             [
              0.1111111111111111,
              "#46039f"
             ],
             [
              0.2222222222222222,
              "#7201a8"
             ],
             [
              0.3333333333333333,
              "#9c179e"
             ],
             [
              0.4444444444444444,
              "#bd3786"
             ],
             [
              0.5555555555555556,
              "#d8576b"
             ],
             [
              0.6666666666666666,
              "#ed7953"
             ],
             [
              0.7777777777777778,
              "#fb9f3a"
             ],
             [
              0.8888888888888888,
              "#fdca26"
             ],
             [
              1,
              "#f0f921"
             ]
            ],
            "type": "histogram2d"
           }
          ],
          "histogram2dcontour": [
           {
            "colorbar": {
             "outlinewidth": 0,
             "ticks": ""
            },
            "colorscale": [
             [
              0,
              "#0d0887"
             ],
             [
              0.1111111111111111,
              "#46039f"
             ],
             [
              0.2222222222222222,
              "#7201a8"
             ],
             [
              0.3333333333333333,
              "#9c179e"
             ],
             [
              0.4444444444444444,
              "#bd3786"
             ],
             [
              0.5555555555555556,
              "#d8576b"
             ],
             [
              0.6666666666666666,
              "#ed7953"
             ],
             [
              0.7777777777777778,
              "#fb9f3a"
             ],
             [
              0.8888888888888888,
              "#fdca26"
             ],
             [
              1,
              "#f0f921"
             ]
            ],
            "type": "histogram2dcontour"
           }
          ],
          "mesh3d": [
           {
            "colorbar": {
             "outlinewidth": 0,
             "ticks": ""
            },
            "type": "mesh3d"
           }
          ],
          "parcoords": [
           {
            "line": {
             "colorbar": {
              "outlinewidth": 0,
              "ticks": ""
             }
            },
            "type": "parcoords"
           }
          ],
          "pie": [
           {
            "automargin": true,
            "type": "pie"
           }
          ],
          "scatter": [
           {
            "marker": {
             "line": {
              "color": "#283442"
             }
            },
            "type": "scatter"
           }
          ],
          "scatter3d": [
           {
            "line": {
             "colorbar": {
              "outlinewidth": 0,
              "ticks": ""
             }
            },
            "marker": {
             "colorbar": {
              "outlinewidth": 0,
              "ticks": ""
             }
            },
            "type": "scatter3d"
           }
          ],
          "scattercarpet": [
           {
            "marker": {
             "colorbar": {
              "outlinewidth": 0,
              "ticks": ""
             }
            },
            "type": "scattercarpet"
           }
          ],
          "scattergeo": [
           {
            "marker": {
             "colorbar": {
              "outlinewidth": 0,
              "ticks": ""
             }
            },
            "type": "scattergeo"
           }
          ],
          "scattergl": [
           {
            "marker": {
             "line": {
              "color": "#283442"
             }
            },
            "type": "scattergl"
           }
          ],
          "scattermapbox": [
           {
            "marker": {
             "colorbar": {
              "outlinewidth": 0,
              "ticks": ""
             }
            },
            "type": "scattermapbox"
           }
          ],
          "scatterpolar": [
           {
            "marker": {
             "colorbar": {
              "outlinewidth": 0,
              "ticks": ""
             }
            },
            "type": "scatterpolar"
           }
          ],
          "scatterpolargl": [
           {
            "marker": {
             "colorbar": {
              "outlinewidth": 0,
              "ticks": ""
             }
            },
            "type": "scatterpolargl"
           }
          ],
          "scatterternary": [
           {
            "marker": {
             "colorbar": {
              "outlinewidth": 0,
              "ticks": ""
             }
            },
            "type": "scatterternary"
           }
          ],
          "surface": [
           {
            "colorbar": {
             "outlinewidth": 0,
             "ticks": ""
            },
            "colorscale": [
             [
              0,
              "#0d0887"
             ],
             [
              0.1111111111111111,
              "#46039f"
             ],
             [
              0.2222222222222222,
              "#7201a8"
             ],
             [
              0.3333333333333333,
              "#9c179e"
             ],
             [
              0.4444444444444444,
              "#bd3786"
             ],
             [
              0.5555555555555556,
              "#d8576b"
             ],
             [
              0.6666666666666666,
              "#ed7953"
             ],
             [
              0.7777777777777778,
              "#fb9f3a"
             ],
             [
              0.8888888888888888,
              "#fdca26"
             ],
             [
              1,
              "#f0f921"
             ]
            ],
            "type": "surface"
           }
          ],
          "table": [
           {
            "cells": {
             "fill": {
              "color": "#506784"
             },
             "line": {
              "color": "rgb(17,17,17)"
             }
            },
            "header": {
             "fill": {
              "color": "#2a3f5f"
             },
             "line": {
              "color": "rgb(17,17,17)"
             }
            },
            "type": "table"
           }
          ]
         },
         "layout": {
          "annotationdefaults": {
           "arrowcolor": "#f2f5fa",
           "arrowhead": 0,
           "arrowwidth": 1
          },
          "autotypenumbers": "strict",
          "coloraxis": {
           "colorbar": {
            "outlinewidth": 0,
            "ticks": ""
           }
          },
          "colorscale": {
           "diverging": [
            [
             0,
             "#8e0152"
            ],
            [
             0.1,
             "#c51b7d"
            ],
            [
             0.2,
             "#de77ae"
            ],
            [
             0.3,
             "#f1b6da"
            ],
            [
             0.4,
             "#fde0ef"
            ],
            [
             0.5,
             "#f7f7f7"
            ],
            [
             0.6,
             "#e6f5d0"
            ],
            [
             0.7,
             "#b8e186"
            ],
            [
             0.8,
             "#7fbc41"
            ],
            [
             0.9,
             "#4d9221"
            ],
            [
             1,
             "#276419"
            ]
           ],
           "sequential": [
            [
             0,
             "#0d0887"
            ],
            [
             0.1111111111111111,
             "#46039f"
            ],
            [
             0.2222222222222222,
             "#7201a8"
            ],
            [
             0.3333333333333333,
             "#9c179e"
            ],
            [
             0.4444444444444444,
             "#bd3786"
            ],
            [
             0.5555555555555556,
             "#d8576b"
            ],
            [
             0.6666666666666666,
             "#ed7953"
            ],
            [
             0.7777777777777778,
             "#fb9f3a"
            ],
            [
             0.8888888888888888,
             "#fdca26"
            ],
            [
             1,
             "#f0f921"
            ]
           ],
           "sequentialminus": [
            [
             0,
             "#0d0887"
            ],
            [
             0.1111111111111111,
             "#46039f"
            ],
            [
             0.2222222222222222,
             "#7201a8"
            ],
            [
             0.3333333333333333,
             "#9c179e"
            ],
            [
             0.4444444444444444,
             "#bd3786"
            ],
            [
             0.5555555555555556,
             "#d8576b"
            ],
            [
             0.6666666666666666,
             "#ed7953"
            ],
            [
             0.7777777777777778,
             "#fb9f3a"
            ],
            [
             0.8888888888888888,
             "#fdca26"
            ],
            [
             1,
             "#f0f921"
            ]
           ]
          },
          "colorway": [
           "#636efa",
           "#EF553B",
           "#00cc96",
           "#ab63fa",
           "#FFA15A",
           "#19d3f3",
           "#FF6692",
           "#B6E880",
           "#FF97FF",
           "#FECB52"
          ],
          "font": {
           "color": "#f2f5fa"
          },
          "geo": {
           "bgcolor": "rgb(17,17,17)",
           "lakecolor": "rgb(17,17,17)",
           "landcolor": "rgb(17,17,17)",
           "showlakes": true,
           "showland": true,
           "subunitcolor": "#506784"
          },
          "hoverlabel": {
           "align": "left"
          },
          "hovermode": "closest",
          "mapbox": {
           "style": "dark"
          },
          "paper_bgcolor": "rgb(17,17,17)",
          "plot_bgcolor": "rgb(17,17,17)",
          "polar": {
           "angularaxis": {
            "gridcolor": "#506784",
            "linecolor": "#506784",
            "ticks": ""
           },
           "bgcolor": "rgb(17,17,17)",
           "radialaxis": {
            "gridcolor": "#506784",
            "linecolor": "#506784",
            "ticks": ""
           }
          },
          "scene": {
           "xaxis": {
            "backgroundcolor": "rgb(17,17,17)",
            "gridcolor": "#506784",
            "gridwidth": 2,
            "linecolor": "#506784",
            "showbackground": true,
            "ticks": "",
            "zerolinecolor": "#C8D4E3"
           },
           "yaxis": {
            "backgroundcolor": "rgb(17,17,17)",
            "gridcolor": "#506784",
            "gridwidth": 2,
            "linecolor": "#506784",
            "showbackground": true,
            "ticks": "",
            "zerolinecolor": "#C8D4E3"
           },
           "zaxis": {
            "backgroundcolor": "rgb(17,17,17)",
            "gridcolor": "#506784",
            "gridwidth": 2,
            "linecolor": "#506784",
            "showbackground": true,
            "ticks": "",
            "zerolinecolor": "#C8D4E3"
           }
          },
          "shapedefaults": {
           "line": {
            "color": "#f2f5fa"
           }
          },
          "sliderdefaults": {
           "bgcolor": "#C8D4E3",
           "bordercolor": "rgb(17,17,17)",
           "borderwidth": 1,
           "tickwidth": 0
          },
          "ternary": {
           "aaxis": {
            "gridcolor": "#506784",
            "linecolor": "#506784",
            "ticks": ""
           },
           "baxis": {
            "gridcolor": "#506784",
            "linecolor": "#506784",
            "ticks": ""
           },
           "bgcolor": "rgb(17,17,17)",
           "caxis": {
            "gridcolor": "#506784",
            "linecolor": "#506784",
            "ticks": ""
           }
          },
          "title": {
           "x": 0.05
          },
          "updatemenudefaults": {
           "bgcolor": "#506784",
           "borderwidth": 0
          },
          "xaxis": {
           "automargin": true,
           "gridcolor": "#283442",
           "linecolor": "#506784",
           "ticks": "",
           "title": {
            "standoff": 15
           },
           "zerolinecolor": "#283442",
           "zerolinewidth": 2
          },
          "yaxis": {
           "automargin": true,
           "gridcolor": "#283442",
           "linecolor": "#506784",
           "ticks": "",
           "title": {
            "standoff": 15
           },
           "zerolinecolor": "#283442",
           "zerolinewidth": 2
          }
         }
        },
        "title": {
         "font": {
          "color": "skyblue",
          "family": "Arial",
          "size": 24
         },
         "text": "India's COTTON PRODUCTION From Last 50 Years",
         "x": 0.5,
         "xanchor": "center",
         "yanchor": "top"
        },
        "xaxis": {
         "autorange": true,
         "range": [
          1962.9140513552068,
          2020.0859486447932
         ],
         "title": {
          "text": "Year"
         },
         "type": "linear"
        },
        "yaxis": {
         "autorange": true,
         "range": [
          1.4029034659821575,
          20.662234901407118
         ],
         "title": {
          "text": "Production (1000 tons)"
         },
         "type": "linear"
        }
       }
      },
      "image/png": "[encoded data removed]",
      "text/html": [
       "<div>                            <div id=\"62743638-e196-4b22-9b21-1a929718f7f8\" class=\"plotly-graph-div\" style=\"height:525px; width:100%;\"></div>            <script type=\"text/javascript\">                require([\"plotly\"], function(Plotly) {                    window.PLOTLYENV=window.PLOTLYENV || {};                                    if (document.getElementById(\"62743638-e196-4b22-9b21-1a929718f7f8\")) {                    Plotly.newPlot(                        \"62743638-e196-4b22-9b21-1a929718f7f8\",                        [{\"line\":{\"color\":\"red\",\"width\":2},\"mode\":\"lines+markers\",\"name\":\"Rapeseed and Mustard Production\",\"x\":[1966,1967,1968,1969,1970,1971,1972,1973,1974,1975,1976,1977,1978,1979,1980,1981,1982,1983,1984,1985,1986,1987,1988,1989,1990,1991,1992,1993,1994,1995,1996,1997,1998,1999,2000,2001,2002,2003,2004,2005,2006,2007,2008,2009,2010,2011,2012,2013,2014,2015,2016,2017],\"y\":[2.7820645161290325,3.0743870967741938,3.0008064516129034,3.0241290322580645,2.767106109324759,4.166720257234727,3.3885209003215433,3.610418006430868,3.9758520900321543,3.46459807073955,3.454790996784566,4.033376205787782,4.262861736334405,4.111414790996784,3.7992926045016073,4.311254019292605,4.070932475884244,3.45,4.5937620578778136,4.74935691318328,3.8444051446945333,3.5560128617363347,4.741382636655948,6.257041800643087,5.578677419354839,5.431387096774194,6.308096774193548,6.138741935483871,5.182548387096774,7.238059210526315,7.936459016393442,5.96508038585209,6.759260450160772,6.271189710610932,5.237717041800643,5.390032154340836,4.810610932475884,7.496430868167202,9.347395498392283,10.128038585209003,11.813762057877813,14.095755627009645,12.175916398713827,12.248810289389068,15.516173633440514,16.106881028938908,13.50588424437299,19.298032258064516,15.40532258064516,12.222774193548387,17.413987138263664,18.458387096774196],\"type\":\"scatter\"}],                        {\"template\":{\"data\":{\"barpolar\":[{\"marker\":{\"line\":{\"color\":\"rgb(17,17,17)\",\"width\":0.5},\"pattern\":{\"fillmode\":\"overlay\",\"size\":10,\"solidity\":0.2}},\"type\":\"barpolar\"}],\"bar\":[{\"error_x\":{\"color\":\"#f2f5fa\"},\"error_y\":{\"color\":\"#f2f5fa\"},\"marker\":{\"line\":{\"color\":\"rgb(17,17,17)\",\"width\":0.5},\"pattern\":{\"fillmode\":\"overlay\",\"size\":10,\"solidity\":0.2}},\"type\":\"bar\"}],\"carpet\":[{\"aaxis\":{\"endlinecolor\":\"#A2B1C6\",\"gridcolor\":\"#506784\",\"linecolor\":\"#506784\",\"minorgridcolor\":\"#506784\",\"startlinecolor\":\"#A2B1C6\"},\"baxis\":{\"endlinecolor\":\"#A2B1C6\",\"gridcolor\":\"#506784\",\"linecolor\":\"#506784\",\"minorgridcolor\":\"#506784\",\"startlinecolor\":\"#A2B1C6\"},\"type\":\"carpet\"}],\"choropleth\":[{\"colorbar\":{\"outlinewidth\":0,\"ticks\":\"\"},\"type\":\"choropleth\"}],\"contourcarpet\":[{\"colorbar\":{\"outlinewidth\":0,\"ticks\":\"\"},\"type\":\"contourcarpet\"}],\"contour\":[{\"colorbar\":{\"outlinewidth\":0,\"ticks\":\"\"},\"colorscale\":[[0.0,\"#0d0887\"],[0.1111111111111111,\"#46039f\"],[0.2222222222222222,\"#7201a8\"],[0.3333333333333333,\"#9c179e\"],[0.4444444444444444,\"#bd3786\"],[0.5555555555555556,\"#d8576b\"],[0.6666666666666666,\"#ed7953\"],[0.7777777777777778,\"#fb9f3a\"],[0.8888888888888888,\"#fdca26\"],[1.0,\"#f0f921\"]],\"type\":\"contour\"}],\"heatmapgl\":[{\"colorbar\":{\"outlinewidth\":0,\"ticks\":\"\"},\"colorscale\":[[0.0,\"#0d0887\"],[0.1111111111111111,\"#46039f\"],[0.2222222222222222,\"#7201a8\"],[0.3333333333333333,\"#9c179e\"],[0.4444444444444444,\"#bd3786\"],[0.5555555555555556,\"#d8576b\"],[0.6666666666666666,\"#ed7953\"],[0.7777777777777778,\"#fb9f3a\"],[0.8888888888888888,\"#fdca26\"],[1.0,\"#f0f921\"]],\"type\":\"heatmapgl\"}],\"heatmap\":[{\"colorbar\":{\"outlinewidth\":0,\"ticks\":\"\"},\"colorscale\":[[0.0,\"#0d0887\"],[0.1111111111111111,\"#46039f\"],[0.2222222222222222,\"#7201a8\"],[0.3333333333333333,\"#9c179e\"],[0.4444444444444444,\"#bd3786\"],[0.5555555555555556,\"#d8576b\"],[0.6666666666666666,\"#ed7953\"],[0.7777777777777778,\"#fb9f3a\"],[0.8888888888888888,\"#fdca26\"],[1.0,\"#f0f921\"]],\"type\":\"heatmap\"}],\"histogram2dcontour\":[{\"colorbar\":{\"outlinewidth\":0,\"ticks\":\"\"},\"colorscale\":[[0.0,\"#0d0887\"],[0.1111111111111111,\"#46039f\"],[0.2222222222222222,\"#7201a8\"],[0.3333333333333333,\"#9c179e\"],[0.4444444444444444,\"#bd3786\"],[0.5555555555555556,\"#d8576b\"],[0.6666666666666666,\"#ed7953\"],[0.7777777777777778,\"#fb9f3a\"],[0.8888888888888888,\"#fdca26\"],[1.0,\"#f0f921\"]],\"type\":\"histogram2dcontour\"}],\"histogram2d\":[{\"colorbar\":{\"outlinewidth\":0,\"ticks\":\"\"},\"colorscale\":[[0.0,\"#0d0887\"],[0.1111111111111111,\"#46039f\"],[0.2222222222222222,\"#7201a8\"],[0.3333333333333333,\"#9c179e\"],[0.4444444444444444,\"#bd3786\"],[0.5555555555555556,\"#d8576b\"],[0.6666666666666666,\"#ed7953\"],[0.7777777777777778,\"#fb9f3a\"],[0.8888888888888888,\"#fdca26\"],[1.0,\"#f0f921\"]],\"type\":\"histogram2d\"}],\"histogram\":[{\"marker\":{\"pattern\":{\"fillmode\":\"overlay\",\"size\":10,\"solidity\":0.2}},\"type\":\"histogram\"}],\"mesh3d\":[{\"colorbar\":{\"outlinewidth\":0,\"ticks\":\"\"},\"type\":\"mesh3d\"}],\"parcoords\":[{\"line\":{\"colorbar\":{\"outlinewidth\":0,\"ticks\":\"\"}},\"type\":\"parcoords\"}],\"pie\":[{\"automargin\":true,\"type\":\"pie\"}],\"scatter3d\":[{\"line\":{\"colorbar\":{\"outlinewidth\":0,\"ticks\":\"\"}},\"marker\":{\"colorbar\":{\"outlinewidth\":0,\"ticks\":\"\"}},\"type\":\"scatter3d\"}],\"scattercarpet\":[{\"marker\":{\"colorbar\":{\"outlinewidth\":0,\"ticks\":\"\"}},\"type\":\"scattercarpet\"}],\"scattergeo\":[{\"marker\":{\"colorbar\":{\"outlinewidth\":0,\"ticks\":\"\"}},\"type\":\"scattergeo\"}],\"scattergl\":[{\"marker\":{\"line\":{\"color\":\"#283442\"}},\"type\":\"scattergl\"}],\"scattermapbox\":[{\"marker\":{\"colorbar\":{\"outlinewidth\":0,\"ticks\":\"\"}},\"type\":\"scattermapbox\"}],\"scatterpolargl\":[{\"marker\":{\"colorbar\":{\"outlinewidth\":0,\"ticks\":\"\"}},\"type\":\"scatterpolargl\"}],\"scatterpolar\":[{\"marker\":{\"colorbar\":{\"outlinewidth\":0,\"ticks\":\"\"}},\"type\":\"scatterpolar\"}],\"scatter\":[{\"marker\":{\"line\":{\"color\":\"#283442\"}},\"type\":\"scatter\"}],\"scatterternary\":[{\"marker\":{\"colorbar\":{\"outlinewidth\":0,\"ticks\":\"\"}},\"type\":\"scatterternary\"}],\"surface\":[{\"colorbar\":{\"outlinewidth\":0,\"ticks\":\"\"},\"colorscale\":[[0.0,\"#0d0887\"],[0.1111111111111111,\"#46039f\"],[0.2222222222222222,\"#7201a8\"],[0.3333333333333333,\"#9c179e\"],[0.4444444444444444,\"#bd3786\"],[0.5555555555555556,\"#d8576b\"],[0.6666666666666666,\"#ed7953\"],[0.7777777777777778,\"#fb9f3a\"],[0.8888888888888888,\"#fdca26\"],[1.0,\"#f0f921\"]],\"type\":\"surface\"}],\"table\":[{\"cells\":{\"fill\":{\"color\":\"#506784\"},\"line\":{\"color\":\"rgb(17,17,17)\"}},\"header\":{\"fill\":{\"color\":\"#2a3f5f\"},\"line\":{\"color\":\"rgb(17,17,17)\"}},\"type\":\"table\"}]},\"layout\":{\"annotationdefaults\":{\"arrowcolor\":\"#f2f5fa\",\"arrowhead\":0,\"arrowwidth\":1},\"autotypenumbers\":\"strict\",\"coloraxis\":{\"colorbar\":{\"outlinewidth\":0,\"ticks\":\"\"}},\"colorscale\":{\"diverging\":[[0,\"#8e0152\"],[0.1,\"#c51b7d\"],[0.2,\"#de77ae\"],[0.3,\"#f1b6da\"],[0.4,\"#fde0ef\"],[0.5,\"#f7f7f7\"],[0.6,\"#e6f5d0\"],[0.7,\"#b8e186\"],[0.8,\"#7fbc41\"],[0.9,\"#4d9221\"],[1,\"#276419\"]],\"sequential\":[[0.0,\"#0d0887\"],[0.1111111111111111,\"#46039f\"],[0.2222222222222222,\"#7201a8\"],[0.3333333333333333,\"#9c179e\"],[0.4444444444444444,\"#bd3786\"],[0.5555555555555556,\"#d8576b\"],[0.6666666666666666,\"#ed7953\"],[0.7777777777777778,\"#fb9f3a\"],[0.8888888888888888,\"#fdca26\"],[1.0,\"#f0f921\"]],\"sequentialminus\":[[0.0,\"#0d0887\"],[0.1111111111111111,\"#46039f\"],[0.2222222222222222,\"#7201a8\"],[0.3333333333333333,\"#9c179e\"],[0.4444444444444444,\"#bd3786\"],[0.5555555555555556,\"#d8576b\"],[0.6666666666666666,\"#ed7953\"],[0.7777777777777778,\"#fb9f3a\"],[0.8888888888888888,\"#fdca26\"],[1.0,\"#f0f921\"]]},\"colorway\":[\"#636efa\",\"#EF553B\",\"#00cc96\",\"#ab63fa\",\"#FFA15A\",\"#19d3f3\",\"#FF6692\",\"#B6E880\",\"#FF97FF\",\"#FECB52\"],\"font\":{\"color\":\"#f2f5fa\"},\"geo\":{\"bgcolor\":\"rgb(17,17,17)\",\"lakecolor\":\"rgb(17,17,17)\",\"landcolor\":\"rgb(17,17,17)\",\"showlakes\":true,\"showland\":true,\"subunitcolor\":\"#506784\"},\"hoverlabel\":{\"align\":\"left\"},\"hovermode\":\"closest\",\"mapbox\":{\"style\":\"dark\"},\"paper_bgcolor\":\"rgb(17,17,17)\",\"plot_bgcolor\":\"rgb(17,17,17)\",\"polar\":{\"angularaxis\":{\"gridcolor\":\"#506784\",\"linecolor\":\"#506784\",\"ticks\":\"\"},\"bgcolor\":\"rgb(17,17,17)\",\"radialaxis\":{\"gridcolor\":\"#506784\",\"linecolor\":\"#506784\",\"ticks\":\"\"}},\"scene\":{\"xaxis\":{\"backgroundcolor\":\"rgb(17,17,17)\",\"gridcolor\":\"#506784\",\"gridwidth\":2,\"linecolor\":\"#506784\",\"showbackground\":true,\"ticks\":\"\",\"zerolinecolor\":\"#C8D4E3\"},\"yaxis\":{\"backgroundcolor\":\"rgb(17,17,17)\",\"gridcolor\":\"#506784\",\"gridwidth\":2,\"linecolor\":\"#506784\",\"showbackground\":true,\"ticks\":\"\",\"zerolinecolor\":\"#C8D4E3\"},\"zaxis\":{\"backgroundcolor\":\"rgb(17,17,17)\",\"gridcolor\":\"#506784\",\"gridwidth\":2,\"linecolor\":\"#506784\",\"showbackground\":true,\"ticks\":\"\",\"zerolinecolor\":\"#C8D4E3\"}},\"shapedefaults\":{\"line\":{\"color\":\"#f2f5fa\"}},\"sliderdefaults\":{\"bgcolor\":\"#C8D4E3\",\"bordercolor\":\"rgb(17,17,17)\",\"borderwidth\":1,\"tickwidth\":0},\"ternary\":{\"aaxis\":{\"gridcolor\":\"#506784\",\"linecolor\":\"#506784\",\"ticks\":\"\"},\"baxis\":{\"gridcolor\":\"#506784\",\"linecolor\":\"#506784\",\"ticks\":\"\"},\"bgcolor\":\"rgb(17,17,17)\",\"caxis\":{\"gridcolor\":\"#506784\",\"linecolor\":\"#506784\",\"ticks\":\"\"}},\"title\":{\"x\":0.05},\"updatemenudefaults\":{\"bgcolor\":\"#506784\",\"borderwidth\":0},\"xaxis\":{\"automargin\":true,\"gridcolor\":\"#283442\",\"linecolor\":\"#506784\",\"ticks\":\"\",\"title\":{\"standoff\":15},\"zerolinecolor\":\"#283442\",\"zerolinewidth\":2},\"yaxis\":{\"automargin\":true,\"gridcolor\":\"#283442\",\"linecolor\":\"#506784\",\"ticks\":\"\",\"title\":{\"standoff\":15},\"zerolinecolor\":\"#283442\",\"zerolinewidth\":2}}},\"title\":{\"font\":{\"size\":24,\"family\":\"Arial\",\"color\":\"skyblue\"},\"text\":\"India's COTTON PRODUCTION From Last 50 Years\",\"x\":0.5,\"xanchor\":\"center\",\"yanchor\":\"top\"},\"xaxis\":{\"title\":{\"text\":\"Year\"}},\"yaxis\":{\"title\":{\"text\":\"Production (1000 tons)\"}}},                        {\"responsive\": true}                    ).then(function(){\n",
       "                            \n",
       "var gd = document.getElementById('62743638-e196-4b22-9b21-1a929718f7f8');\n",
       "var x = new MutationObserver(function (mutations, observer) {{\n",
       "        var display = window.getComputedStyle(gd).display;\n",
       "        if (!display || display === 'none') {{\n",
       "            console.log([gd, 'removed!']);\n",
       "            Plotly.purge(gd);\n",
       "            observer.disconnect();\n",
       "        }}\n",
       "}});\n",
       "\n",
       "// Listen for the removal of the full notebook cells\n",
       "var notebookContainer = gd.closest('#notebook-container');\n",
       "if (notebookContainer) {{\n",
       "    x.observe(notebookContainer, {childList: true});\n",
       "}}\n",
       "\n",
       "// Listen for the clearing of the current output cell\n",
       "var outputEl = gd.closest('.output');\n",
       "if (outputEl) {{\n",
       "    x.observe(outputEl, {childList: true});\n",
       "}}\n",
       "\n",
       "                        })                };                });            </script>        </div>"
      ]
     },
     "metadata": {},
     "output_type": "display_data"
    }
   ],
   "source": [
    "import plotly.graph_objs as go\n",
    "\n",
    "fig = go.Figure()\n",
    "\n",
    "fig.add_trace(go.Scatter(x=cot['Year'],y=cot['COTTON PRODUCTION (1000 tons)'], mode='lines+markers',  \n",
    "    name='Rapeseed and Mustard Production',line=dict(color='red', width=2)))\n",
    "fig.update_layout(xaxis_title=\"Year\",yaxis_title=\"Production (1000 tons)\",\n",
    "    template=\"plotly_dark\",title={'text': \"India's COTTON PRODUCTION From Last 50 Years\",'x': 0.5,  \n",
    "    'xanchor': 'center','yanchor': 'top','font': {'size': 24, 'family': 'Arial', 'color': 'skyblue'}})\n",
    "\n",
    "fig.show()"
   ]
  },
  {
   "cell_type": "markdown",
   "id": "968d942b-73b4-4c58-b81f-5932f6771e37",
   "metadata": {},
   "source": [
    "#### Sunflower Production per State"
   ]
  },
  {
   "cell_type": "code",
   "execution_count": 20,
   "id": "c498f3d4-872b-40bd-8595-160234c76139",
   "metadata": {},
   "outputs": [
    {
     "data": {
      "text/html": [
       "<div>\n",
       "<style scoped>\n",
       "    .dataframe tbody tr th:only-of-type {\n",
       "        vertical-align: middle;\n",
       "    }\n",
       "\n",
       "    .dataframe tbody tr th {\n",
       "        vertical-align: top;\n",
       "    }\n",
       "\n",
       "    .dataframe thead th {\n",
       "        text-align: right;\n",
       "    }\n",
       "</style>\n",
       "<table border=\"1\" class=\"dataframe\">\n",
       "  <thead>\n",
       "    <tr style=\"text-align: right;\">\n",
       "      <th></th>\n",
       "      <th>State Name</th>\n",
       "      <th>SUNFLOWER PRODUCTION (1000 tons)</th>\n",
       "    </tr>\n",
       "  </thead>\n",
       "  <tbody>\n",
       "    <tr>\n",
       "      <th>0</th>\n",
       "      <td>Karnataka</td>\n",
       "      <td>10785.87</td>\n",
       "    </tr>\n",
       "    <tr>\n",
       "      <th>1</th>\n",
       "      <td>Maharashtra</td>\n",
       "      <td>5599.46</td>\n",
       "    </tr>\n",
       "    <tr>\n",
       "      <th>2</th>\n",
       "      <td>Andhra Pradesh</td>\n",
       "      <td>4447.78</td>\n",
       "    </tr>\n",
       "    <tr>\n",
       "      <th>3</th>\n",
       "      <td>Telangana</td>\n",
       "      <td>1401.06</td>\n",
       "    </tr>\n",
       "    <tr>\n",
       "      <th>4</th>\n",
       "      <td>Punjab</td>\n",
       "      <td>1081.86</td>\n",
       "    </tr>\n",
       "    <tr>\n",
       "      <th>5</th>\n",
       "      <td>Tamil Nadu</td>\n",
       "      <td>762.38</td>\n",
       "    </tr>\n",
       "    <tr>\n",
       "      <th>6</th>\n",
       "      <td>Uttar Pradesh</td>\n",
       "      <td>552.66</td>\n",
       "    </tr>\n",
       "  </tbody>\n",
       "</table>\n",
       "</div>"
      ],
      "text/plain": [
       "       State Name  SUNFLOWER PRODUCTION (1000 tons)\n",
       "0       Karnataka                          10785.87\n",
       "1     Maharashtra                           5599.46\n",
       "2  Andhra Pradesh                           4447.78\n",
       "3       Telangana                           1401.06\n",
       "4          Punjab                           1081.86\n",
       "5      Tamil Nadu                            762.38\n",
       "6   Uttar Pradesh                            552.66"
      ]
     },
     "execution_count": 20,
     "metadata": {},
     "output_type": "execute_result"
    }
   ],
   "source": [
    "sun=data.groupby('State Name')['SUNFLOWER PRODUCTION (1000 tons)'].sum().sort_values(ascending=False).head(7).reset_index()\n",
    "sun"
   ]
  },
  {
   "cell_type": "code",
   "execution_count": 21,
   "id": "b7977044-730b-462d-b4a8-38f3675b06a7",
   "metadata": {},
   "outputs": [
    {
     "data": {
      "image/png": "[encoded data removed]",
      "text/plain": [
       "<Figure size 1000x400 with 1 Axes>"
      ]
     },
     "metadata": {},
     "output_type": "display_data"
    }
   ],
   "source": [
    "plt.figure(figsize = (10,4))\n",
    "a = sns.barplot(x = \"State Name\",y = \"SUNFLOWER PRODUCTION (1000 tons)\",data = sun,hue = \"State Name\")\n",
    "for x in a.containers:\n",
    "    a.bar_label(x)\n",
    "plt.title(\"Top 7 Sunflower Production State\",fontsize = 18,weight = 'bold')\n",
    "plt.xlabel(\"State Names\",fontsize = 15,weight = 'bold')\n",
    "plt.ylabel(\"Total_productions\",fontsize = 15,weight = 'bold')\n",
    "plt.xticks(rotation=45,ha='right',fontsize=9,weight='bold')\n",
    "plt.grid(axis = 'y',linestyle = '--')\n",
    "plt.show()"
   ]
  },
  {
   "cell_type": "markdown",
   "id": "b8136c79-647b-4ebc-8387-d81807bfe252",
   "metadata": {},
   "source": [
    "##### Conclusion: Karnataka produced highest production of sunflower"
   ]
  },
  {
   "cell_type": "markdown",
   "id": "5611efd4-b985-4a47-9aad-de8c9319b60b",
   "metadata": {},
   "source": [
    "#### Sugarcane production per Year"
   ]
  },
  {
   "cell_type": "code",
   "execution_count": 22,
   "id": "6457c8f6-d223-4dac-b915-e9054767e493",
   "metadata": {},
   "outputs": [
    {
     "data": {
      "text/html": [
       "<div>\n",
       "<style scoped>\n",
       "    .dataframe tbody tr th:only-of-type {\n",
       "        vertical-align: middle;\n",
       "    }\n",
       "\n",
       "    .dataframe tbody tr th {\n",
       "        vertical-align: top;\n",
       "    }\n",
       "\n",
       "    .dataframe thead th {\n",
       "        text-align: right;\n",
       "    }\n",
       "</style>\n",
       "<table border=\"1\" class=\"dataframe\">\n",
       "  <thead>\n",
       "    <tr style=\"text-align: right;\">\n",
       "      <th></th>\n",
       "      <th>Year</th>\n",
       "      <th>SUGARCANE PRODUCTION (1000 tons)</th>\n",
       "    </tr>\n",
       "  </thead>\n",
       "  <tbody>\n",
       "    <tr>\n",
       "      <th>0</th>\n",
       "      <td>2011</td>\n",
       "      <td>125.366045</td>\n",
       "    </tr>\n",
       "    <tr>\n",
       "      <th>1</th>\n",
       "      <td>2014</td>\n",
       "      <td>123.790032</td>\n",
       "    </tr>\n",
       "    <tr>\n",
       "      <th>2</th>\n",
       "      <td>2017</td>\n",
       "      <td>119.486419</td>\n",
       "    </tr>\n",
       "    <tr>\n",
       "      <th>3</th>\n",
       "      <td>2013</td>\n",
       "      <td>117.001516</td>\n",
       "    </tr>\n",
       "    <tr>\n",
       "      <th>4</th>\n",
       "      <td>2007</td>\n",
       "      <td>114.012669</td>\n",
       "    </tr>\n",
       "    <tr>\n",
       "      <th>5</th>\n",
       "      <td>2012</td>\n",
       "      <td>113.226495</td>\n",
       "    </tr>\n",
       "    <tr>\n",
       "      <th>6</th>\n",
       "      <td>2010</td>\n",
       "      <td>109.643248</td>\n",
       "    </tr>\n",
       "    <tr>\n",
       "      <th>7</th>\n",
       "      <td>2006</td>\n",
       "      <td>109.185852</td>\n",
       "    </tr>\n",
       "    <tr>\n",
       "      <th>8</th>\n",
       "      <td>2015</td>\n",
       "      <td>106.968516</td>\n",
       "    </tr>\n",
       "    <tr>\n",
       "      <th>9</th>\n",
       "      <td>2016</td>\n",
       "      <td>103.616785</td>\n",
       "    </tr>\n",
       "    <tr>\n",
       "      <th>10</th>\n",
       "      <td>1999</td>\n",
       "      <td>98.036720</td>\n",
       "    </tr>\n",
       "    <tr>\n",
       "      <th>11</th>\n",
       "      <td>2000</td>\n",
       "      <td>96.936559</td>\n",
       "    </tr>\n",
       "    <tr>\n",
       "      <th>12</th>\n",
       "      <td>2001</td>\n",
       "      <td>96.771286</td>\n",
       "    </tr>\n",
       "    <tr>\n",
       "      <th>13</th>\n",
       "      <td>1995</td>\n",
       "      <td>95.936480</td>\n",
       "    </tr>\n",
       "    <tr>\n",
       "      <th>14</th>\n",
       "      <td>2009</td>\n",
       "      <td>95.441736</td>\n",
       "    </tr>\n",
       "    <tr>\n",
       "      <th>15</th>\n",
       "      <td>1998</td>\n",
       "      <td>94.961640</td>\n",
       "    </tr>\n",
       "    <tr>\n",
       "      <th>16</th>\n",
       "      <td>2002</td>\n",
       "      <td>92.942412</td>\n",
       "    </tr>\n",
       "    <tr>\n",
       "      <th>17</th>\n",
       "      <td>2008</td>\n",
       "      <td>92.812958</td>\n",
       "    </tr>\n",
       "    <tr>\n",
       "      <th>18</th>\n",
       "      <td>1994</td>\n",
       "      <td>91.924484</td>\n",
       "    </tr>\n",
       "    <tr>\n",
       "      <th>19</th>\n",
       "      <td>2005</td>\n",
       "      <td>90.757042</td>\n",
       "    </tr>\n",
       "  </tbody>\n",
       "</table>\n",
       "</div>"
      ],
      "text/plain": [
       "    Year  SUGARCANE PRODUCTION (1000 tons)\n",
       "0   2011                        125.366045\n",
       "1   2014                        123.790032\n",
       "2   2017                        119.486419\n",
       "3   2013                        117.001516\n",
       "4   2007                        114.012669\n",
       "5   2012                        113.226495\n",
       "6   2010                        109.643248\n",
       "7   2006                        109.185852\n",
       "8   2015                        106.968516\n",
       "9   2016                        103.616785\n",
       "10  1999                         98.036720\n",
       "11  2000                         96.936559\n",
       "12  2001                         96.771286\n",
       "13  1995                         95.936480\n",
       "14  2009                         95.441736\n",
       "15  1998                         94.961640\n",
       "16  2002                         92.942412\n",
       "17  2008                         92.812958\n",
       "18  1994                         91.924484\n",
       "19  2005                         90.757042"
      ]
     },
     "execution_count": 22,
     "metadata": {},
     "output_type": "execute_result"
    }
   ],
   "source": [
    "sug = data.groupby(\"Year\")[\"SUGARCANE PRODUCTION (1000 tons)\"].mean().sort_values(ascending = False).reset_index()\n",
    "sug.head(20)"
   ]
  },
  {
   "cell_type": "markdown",
   "id": "68055be1-a9be-4c45-9f56-f5eba45ea264",
   "metadata": {},
   "source": [
    "##### Conclusion : Sugarcane production in 2011 was highest than other years."
   ]
  },
  {
   "cell_type": "code",
   "execution_count": 22,
   "id": "e7dccfdd-9379-4a71-a5da-dbf7b904bbe9",
   "metadata": {},
   "outputs": [
    {
     "data": {
      "image/png": "[encoded data removed]",
      "text/plain": [
       "<Figure size 800x400 with 1 Axes>"
      ]
     },
     "metadata": {},
     "output_type": "display_data"
    }
   ],
   "source": [
    "sns.set_theme(style = \"darkgrid\")\n",
    "plt.figure(figsize = (8,4))\n",
    "plt.plot(sug[\"Year\"],sug[\"SUGARCANE PRODUCTION (1000 tons)\"],marker = 'o',color = 'green',linewidth = 2,label = \"Sugar Production\")\n",
    "plt.title(\"India's SUGARCANE PRODUCTION From Last 50 Years\",fontsize = 15,color = 'navy',loc = 'center',weight = 'bold',family = 'Arial')\n",
    "plt.xlabel('Year', fontsize=15)\n",
    "plt.ylabel('Production (1000 tons)', fontsize=15)\n",
    "plt.legend()\n",
    "plt.show()"
   ]
  },
  {
   "cell_type": "markdown",
   "id": "fbeb4c1f-8784-4125-8213-4d498735751b",
   "metadata": {},
   "source": [
    "#### Rice Production per Year Analysis"
   ]
  },
  {
   "cell_type": "code",
   "execution_count": 23,
   "id": "61cf2658-ed57-44b8-acc4-52a08607d2d1",
   "metadata": {},
   "outputs": [
    {
     "data": {
      "text/html": [
       "<div>\n",
       "<style scoped>\n",
       "    .dataframe tbody tr th:only-of-type {\n",
       "        vertical-align: middle;\n",
       "    }\n",
       "\n",
       "    .dataframe tbody tr th {\n",
       "        vertical-align: top;\n",
       "    }\n",
       "\n",
       "    .dataframe thead th {\n",
       "        text-align: right;\n",
       "    }\n",
       "</style>\n",
       "<table border=\"1\" class=\"dataframe\">\n",
       "  <thead>\n",
       "    <tr style=\"text-align: right;\">\n",
       "      <th></th>\n",
       "      <th>Year</th>\n",
       "      <th>RICE PRODUCTION (1000 tons)</th>\n",
       "    </tr>\n",
       "  </thead>\n",
       "  <tbody>\n",
       "    <tr>\n",
       "      <th>0</th>\n",
       "      <td>2016</td>\n",
       "      <td>378.180386</td>\n",
       "    </tr>\n",
       "    <tr>\n",
       "      <th>1</th>\n",
       "      <td>2017</td>\n",
       "      <td>368.772935</td>\n",
       "    </tr>\n",
       "    <tr>\n",
       "      <th>2</th>\n",
       "      <td>2014</td>\n",
       "      <td>363.069742</td>\n",
       "    </tr>\n",
       "    <tr>\n",
       "      <th>3</th>\n",
       "      <td>2013</td>\n",
       "      <td>353.394903</td>\n",
       "    </tr>\n",
       "    <tr>\n",
       "      <th>4</th>\n",
       "      <td>2012</td>\n",
       "      <td>335.169196</td>\n",
       "    </tr>\n",
       "    <tr>\n",
       "      <th>5</th>\n",
       "      <td>2011</td>\n",
       "      <td>328.669678</td>\n",
       "    </tr>\n",
       "    <tr>\n",
       "      <th>6</th>\n",
       "      <td>2015</td>\n",
       "      <td>318.775839</td>\n",
       "    </tr>\n",
       "    <tr>\n",
       "      <th>7</th>\n",
       "      <td>2008</td>\n",
       "      <td>306.195627</td>\n",
       "    </tr>\n",
       "    <tr>\n",
       "      <th>8</th>\n",
       "      <td>2010</td>\n",
       "      <td>303.216174</td>\n",
       "    </tr>\n",
       "    <tr>\n",
       "      <th>9</th>\n",
       "      <td>2007</td>\n",
       "      <td>299.044277</td>\n",
       "    </tr>\n",
       "    <tr>\n",
       "      <th>10</th>\n",
       "      <td>2001</td>\n",
       "      <td>294.392669</td>\n",
       "    </tr>\n",
       "    <tr>\n",
       "      <th>11</th>\n",
       "      <td>2006</td>\n",
       "      <td>289.338071</td>\n",
       "    </tr>\n",
       "    <tr>\n",
       "      <th>12</th>\n",
       "      <td>2009</td>\n",
       "      <td>283.185498</td>\n",
       "    </tr>\n",
       "    <tr>\n",
       "      <th>13</th>\n",
       "      <td>2005</td>\n",
       "      <td>280.757524</td>\n",
       "    </tr>\n",
       "    <tr>\n",
       "      <th>14</th>\n",
       "      <td>1999</td>\n",
       "      <td>278.222090</td>\n",
       "    </tr>\n",
       "    <tr>\n",
       "      <th>15</th>\n",
       "      <td>2003</td>\n",
       "      <td>273.219132</td>\n",
       "    </tr>\n",
       "    <tr>\n",
       "      <th>16</th>\n",
       "      <td>2000</td>\n",
       "      <td>268.413473</td>\n",
       "    </tr>\n",
       "    <tr>\n",
       "      <th>17</th>\n",
       "      <td>1998</td>\n",
       "      <td>264.933215</td>\n",
       "    </tr>\n",
       "    <tr>\n",
       "      <th>18</th>\n",
       "      <td>2004</td>\n",
       "      <td>260.294662</td>\n",
       "    </tr>\n",
       "    <tr>\n",
       "      <th>19</th>\n",
       "      <td>1997</td>\n",
       "      <td>258.855595</td>\n",
       "    </tr>\n",
       "  </tbody>\n",
       "</table>\n",
       "</div>"
      ],
      "text/plain": [
       "    Year  RICE PRODUCTION (1000 tons)\n",
       "0   2016                   378.180386\n",
       "1   2017                   368.772935\n",
       "2   2014                   363.069742\n",
       "3   2013                   353.394903\n",
       "4   2012                   335.169196\n",
       "5   2011                   328.669678\n",
       "6   2015                   318.775839\n",
       "7   2008                   306.195627\n",
       "8   2010                   303.216174\n",
       "9   2007                   299.044277\n",
       "10  2001                   294.392669\n",
       "11  2006                   289.338071\n",
       "12  2009                   283.185498\n",
       "13  2005                   280.757524\n",
       "14  1999                   278.222090\n",
       "15  2003                   273.219132\n",
       "16  2000                   268.413473\n",
       "17  1998                   264.933215\n",
       "18  2004                   260.294662\n",
       "19  1997                   258.855595"
      ]
     },
     "execution_count": 23,
     "metadata": {},
     "output_type": "execute_result"
    }
   ],
   "source": [
    "rice1 = data.groupby(\"Year\")[\"RICE PRODUCTION (1000 tons)\"].mean().sort_values(ascending = False).reset_index()\n",
    "rice1.head(20)"
   ]
  },
  {
   "cell_type": "markdown",
   "id": "a411f60b-457c-4a34-a60d-150d2b39d2fa",
   "metadata": {},
   "source": [
    "##### Conclusion : Highest production of rice was in year 2016."
   ]
  },
  {
   "cell_type": "markdown",
   "id": "9c68ab47-72e8-4c8f-a4bb-480b2d4bbfb3",
   "metadata": {},
   "source": [
    "#### Wheat Production per Year analysis"
   ]
  },
  {
   "cell_type": "code",
   "execution_count": 24,
   "id": "709305e8-a065-4342-8442-b579c8f7648c",
   "metadata": {},
   "outputs": [
    {
     "data": {
      "text/html": [
       "<div>\n",
       "<style scoped>\n",
       "    .dataframe tbody tr th:only-of-type {\n",
       "        vertical-align: middle;\n",
       "    }\n",
       "\n",
       "    .dataframe tbody tr th {\n",
       "        vertical-align: top;\n",
       "    }\n",
       "\n",
       "    .dataframe thead th {\n",
       "        text-align: right;\n",
       "    }\n",
       "</style>\n",
       "<table border=\"1\" class=\"dataframe\">\n",
       "  <thead>\n",
       "    <tr style=\"text-align: right;\">\n",
       "      <th></th>\n",
       "      <th>Year</th>\n",
       "      <th>WHEAT PRODUCTION (1000 tons)</th>\n",
       "    </tr>\n",
       "  </thead>\n",
       "  <tbody>\n",
       "    <tr>\n",
       "      <th>0</th>\n",
       "      <td>2016</td>\n",
       "      <td>363.224502</td>\n",
       "    </tr>\n",
       "    <tr>\n",
       "      <th>1</th>\n",
       "      <td>2017</td>\n",
       "      <td>356.187774</td>\n",
       "    </tr>\n",
       "    <tr>\n",
       "      <th>2</th>\n",
       "      <td>2013</td>\n",
       "      <td>330.665097</td>\n",
       "    </tr>\n",
       "    <tr>\n",
       "      <th>3</th>\n",
       "      <td>2011</td>\n",
       "      <td>322.411543</td>\n",
       "    </tr>\n",
       "    <tr>\n",
       "      <th>4</th>\n",
       "      <td>2012</td>\n",
       "      <td>312.469003</td>\n",
       "    </tr>\n",
       "    <tr>\n",
       "      <th>5</th>\n",
       "      <td>2015</td>\n",
       "      <td>302.661226</td>\n",
       "    </tr>\n",
       "    <tr>\n",
       "      <th>6</th>\n",
       "      <td>2010</td>\n",
       "      <td>300.445498</td>\n",
       "    </tr>\n",
       "    <tr>\n",
       "      <th>7</th>\n",
       "      <td>2014</td>\n",
       "      <td>273.763161</td>\n",
       "    </tr>\n",
       "    <tr>\n",
       "      <th>8</th>\n",
       "      <td>2008</td>\n",
       "      <td>262.421897</td>\n",
       "    </tr>\n",
       "    <tr>\n",
       "      <th>9</th>\n",
       "      <td>2009</td>\n",
       "      <td>260.522251</td>\n",
       "    </tr>\n",
       "    <tr>\n",
       "      <th>10</th>\n",
       "      <td>2007</td>\n",
       "      <td>257.642219</td>\n",
       "    </tr>\n",
       "    <tr>\n",
       "      <th>11</th>\n",
       "      <td>2006</td>\n",
       "      <td>249.869775</td>\n",
       "    </tr>\n",
       "    <tr>\n",
       "      <th>12</th>\n",
       "      <td>1999</td>\n",
       "      <td>245.046527</td>\n",
       "    </tr>\n",
       "    <tr>\n",
       "      <th>13</th>\n",
       "      <td>2003</td>\n",
       "      <td>232.530804</td>\n",
       "    </tr>\n",
       "    <tr>\n",
       "      <th>14</th>\n",
       "      <td>2001</td>\n",
       "      <td>232.109646</td>\n",
       "    </tr>\n",
       "    <tr>\n",
       "      <th>15</th>\n",
       "      <td>1998</td>\n",
       "      <td>225.264984</td>\n",
       "    </tr>\n",
       "    <tr>\n",
       "      <th>16</th>\n",
       "      <td>1996</td>\n",
       "      <td>225.021508</td>\n",
       "    </tr>\n",
       "    <tr>\n",
       "      <th>17</th>\n",
       "      <td>2000</td>\n",
       "      <td>223.849003</td>\n",
       "    </tr>\n",
       "    <tr>\n",
       "      <th>18</th>\n",
       "      <td>2004</td>\n",
       "      <td>221.907910</td>\n",
       "    </tr>\n",
       "    <tr>\n",
       "      <th>19</th>\n",
       "      <td>2005</td>\n",
       "      <td>219.868232</td>\n",
       "    </tr>\n",
       "  </tbody>\n",
       "</table>\n",
       "</div>"
      ],
      "text/plain": [
       "    Year  WHEAT PRODUCTION (1000 tons)\n",
       "0   2016                    363.224502\n",
       "1   2017                    356.187774\n",
       "2   2013                    330.665097\n",
       "3   2011                    322.411543\n",
       "4   2012                    312.469003\n",
       "5   2015                    302.661226\n",
       "6   2010                    300.445498\n",
       "7   2014                    273.763161\n",
       "8   2008                    262.421897\n",
       "9   2009                    260.522251\n",
       "10  2007                    257.642219\n",
       "11  2006                    249.869775\n",
       "12  1999                    245.046527\n",
       "13  2003                    232.530804\n",
       "14  2001                    232.109646\n",
       "15  1998                    225.264984\n",
       "16  1996                    225.021508\n",
       "17  2000                    223.849003\n",
       "18  2004                    221.907910\n",
       "19  2005                    219.868232"
      ]
     },
     "execution_count": 24,
     "metadata": {},
     "output_type": "execute_result"
    }
   ],
   "source": [
    "wheat1 = data.groupby(\"Year\")[\"WHEAT PRODUCTION (1000 tons)\"].mean().sort_values(ascending = False).reset_index()\n",
    "wheat1.head(20)"
   ]
  },
  {
   "cell_type": "markdown",
   "id": "f4ee9aaa-aff4-430e-81c8-4142cf9dbf24",
   "metadata": {},
   "source": [
    "##### Conclusion: In 2016 wheat was highest produced"
   ]
  },
  {
   "cell_type": "markdown",
   "id": "e7dfdb83-2ae4-442b-b5c3-3455c949315d",
   "metadata": {},
   "source": [
    "#### Rice Production v/s Wheat Production"
   ]
  },
  {
   "cell_type": "code",
   "execution_count": 25,
   "id": "2a10914e-9ae5-4eab-9efb-aec941ee47a5",
   "metadata": {},
   "outputs": [
    {
     "data": {
      "image/png": "[encoded data removed]",
      "text/plain": [
       "<Figure size 1200x400 with 1 Axes>"
      ]
     },
     "metadata": {},
     "output_type": "display_data"
    }
   ],
   "source": [
    "plt.figure(figsize=(12, 4))\n",
    "plt.plot(wheat1['Year'],wheat1['WHEAT PRODUCTION (1000 tons)'], marker='o', color='green', linewidth=1, label='Wheat')\n",
    "plt.plot(rice1['Year'],rice1['RICE PRODUCTION (1000 tons)'], marker='o', color='blue', linewidth=1, label='Rice')\n",
    "\n",
    "plt.title(\"Rice Production Vs Wheat Production (Last 50y)\", fontsize=20, color='navy', loc='center', weight='bold', family='Arial')\n",
    "plt.xlabel('Year', fontsize=15)\n",
    "plt.ylabel('Production', fontsize=15)\n",
    "\n",
    "plt.grid(axis='y',linestyle='--')\n",
    "plt.legend()\n",
    "plt.show()"
   ]
  },
  {
   "cell_type": "code",
   "execution_count": 26,
   "id": "effcb375-fab2-40d3-bcb7-8fbbc87895ed",
   "metadata": {},
   "outputs": [
    {
     "data": {
      "text/html": [
       "<div>\n",
       "<style scoped>\n",
       "    .dataframe tbody tr th:only-of-type {\n",
       "        vertical-align: middle;\n",
       "    }\n",
       "\n",
       "    .dataframe tbody tr th {\n",
       "        vertical-align: top;\n",
       "    }\n",
       "\n",
       "    .dataframe thead th {\n",
       "        text-align: right;\n",
       "    }\n",
       "</style>\n",
       "<table border=\"1\" class=\"dataframe\">\n",
       "  <thead>\n",
       "    <tr style=\"text-align: right;\">\n",
       "      <th></th>\n",
       "      <th>Dist Code</th>\n",
       "      <th>Year</th>\n",
       "      <th>State Code</th>\n",
       "      <th>State Name</th>\n",
       "      <th>Dist Name</th>\n",
       "      <th>RICE AREA (1000 ha)</th>\n",
       "      <th>RICE PRODUCTION (1000 tons)</th>\n",
       "      <th>RICE YIELD (Kg per ha)</th>\n",
       "      <th>WHEAT AREA (1000 ha)</th>\n",
       "      <th>WHEAT PRODUCTION (1000 tons)</th>\n",
       "      <th>...</th>\n",
       "      <th>SUGARCANE YIELD (Kg per ha)</th>\n",
       "      <th>COTTON AREA (1000 ha)</th>\n",
       "      <th>COTTON PRODUCTION (1000 tons)</th>\n",
       "      <th>COTTON YIELD (Kg per ha)</th>\n",
       "      <th>FRUITS AREA (1000 ha)</th>\n",
       "      <th>VEGETABLES AREA (1000 ha)</th>\n",
       "      <th>FRUITS AND VEGETABLES AREA (1000 ha)</th>\n",
       "      <th>POTATOES AREA (1000 ha)</th>\n",
       "      <th>ONION AREA (1000 ha)</th>\n",
       "      <th>FODDER AREA (1000 ha)</th>\n",
       "    </tr>\n",
       "  </thead>\n",
       "  <tbody>\n",
       "    <tr>\n",
       "      <th>14500</th>\n",
       "      <td>800</td>\n",
       "      <td>1966</td>\n",
       "      <td>13</td>\n",
       "      <td>West Bengal</td>\n",
       "      <td>24 Parganas</td>\n",
       "      <td>603.36</td>\n",
       "      <td>628.09</td>\n",
       "      <td>1040.99</td>\n",
       "      <td>1.16</td>\n",
       "      <td>1.04</td>\n",
       "      <td>...</td>\n",
       "      <td>4200.00</td>\n",
       "      <td>0.0</td>\n",
       "      <td>0.0</td>\n",
       "      <td>0.0</td>\n",
       "      <td>5.26</td>\n",
       "      <td>26.63</td>\n",
       "      <td>31.89</td>\n",
       "      <td>3.20</td>\n",
       "      <td>-1.0</td>\n",
       "      <td>-1.0</td>\n",
       "    </tr>\n",
       "    <tr>\n",
       "      <th>14501</th>\n",
       "      <td>800</td>\n",
       "      <td>1967</td>\n",
       "      <td>13</td>\n",
       "      <td>West Bengal</td>\n",
       "      <td>24 Parganas</td>\n",
       "      <td>618.82</td>\n",
       "      <td>682.16</td>\n",
       "      <td>1102.36</td>\n",
       "      <td>2.29</td>\n",
       "      <td>1.98</td>\n",
       "      <td>...</td>\n",
       "      <td>3815.60</td>\n",
       "      <td>0.0</td>\n",
       "      <td>0.0</td>\n",
       "      <td>0.0</td>\n",
       "      <td>5.26</td>\n",
       "      <td>26.95</td>\n",
       "      <td>32.21</td>\n",
       "      <td>3.52</td>\n",
       "      <td>-1.0</td>\n",
       "      <td>-1.0</td>\n",
       "    </tr>\n",
       "    <tr>\n",
       "      <th>14502</th>\n",
       "      <td>800</td>\n",
       "      <td>1968</td>\n",
       "      <td>13</td>\n",
       "      <td>West Bengal</td>\n",
       "      <td>24 Parganas</td>\n",
       "      <td>615.70</td>\n",
       "      <td>703.49</td>\n",
       "      <td>1142.59</td>\n",
       "      <td>3.92</td>\n",
       "      <td>4.86</td>\n",
       "      <td>...</td>\n",
       "      <td>5021.16</td>\n",
       "      <td>0.0</td>\n",
       "      <td>0.0</td>\n",
       "      <td>0.0</td>\n",
       "      <td>29.02</td>\n",
       "      <td>28.61</td>\n",
       "      <td>57.63</td>\n",
       "      <td>3.00</td>\n",
       "      <td>-1.0</td>\n",
       "      <td>-1.0</td>\n",
       "    </tr>\n",
       "    <tr>\n",
       "      <th>14503</th>\n",
       "      <td>800</td>\n",
       "      <td>1969</td>\n",
       "      <td>13</td>\n",
       "      <td>West Bengal</td>\n",
       "      <td>24 Parganas</td>\n",
       "      <td>633.20</td>\n",
       "      <td>672.19</td>\n",
       "      <td>1061.58</td>\n",
       "      <td>5.43</td>\n",
       "      <td>6.19</td>\n",
       "      <td>...</td>\n",
       "      <td>5201.92</td>\n",
       "      <td>0.0</td>\n",
       "      <td>0.0</td>\n",
       "      <td>0.0</td>\n",
       "      <td>29.06</td>\n",
       "      <td>30.84</td>\n",
       "      <td>59.89</td>\n",
       "      <td>2.79</td>\n",
       "      <td>-1.0</td>\n",
       "      <td>-1.0</td>\n",
       "    </tr>\n",
       "    <tr>\n",
       "      <th>14504</th>\n",
       "      <td>800</td>\n",
       "      <td>1970</td>\n",
       "      <td>13</td>\n",
       "      <td>West Bengal</td>\n",
       "      <td>24 Parganas</td>\n",
       "      <td>582.40</td>\n",
       "      <td>475.70</td>\n",
       "      <td>816.79</td>\n",
       "      <td>9.09</td>\n",
       "      <td>11.27</td>\n",
       "      <td>...</td>\n",
       "      <td>4418.48</td>\n",
       "      <td>0.0</td>\n",
       "      <td>0.0</td>\n",
       "      <td>0.0</td>\n",
       "      <td>28.05</td>\n",
       "      <td>45.24</td>\n",
       "      <td>73.29</td>\n",
       "      <td>2.23</td>\n",
       "      <td>-1.0</td>\n",
       "      <td>0.0</td>\n",
       "    </tr>\n",
       "    <tr>\n",
       "      <th>...</th>\n",
       "      <td>...</td>\n",
       "      <td>...</td>\n",
       "      <td>...</td>\n",
       "      <td>...</td>\n",
       "      <td>...</td>\n",
       "      <td>...</td>\n",
       "      <td>...</td>\n",
       "      <td>...</td>\n",
       "      <td>...</td>\n",
       "      <td>...</td>\n",
       "      <td>...</td>\n",
       "      <td>...</td>\n",
       "      <td>...</td>\n",
       "      <td>...</td>\n",
       "      <td>...</td>\n",
       "      <td>...</td>\n",
       "      <td>...</td>\n",
       "      <td>...</td>\n",
       "      <td>...</td>\n",
       "      <td>...</td>\n",
       "      <td>...</td>\n",
       "    </tr>\n",
       "    <tr>\n",
       "      <th>15269</th>\n",
       "      <td>822</td>\n",
       "      <td>2013</td>\n",
       "      <td>13</td>\n",
       "      <td>West Bengal</td>\n",
       "      <td>West Dinajpur</td>\n",
       "      <td>407.78</td>\n",
       "      <td>1069.76</td>\n",
       "      <td>2623.38</td>\n",
       "      <td>50.05</td>\n",
       "      <td>134.32</td>\n",
       "      <td>...</td>\n",
       "      <td>13000.00</td>\n",
       "      <td>0.0</td>\n",
       "      <td>0.0</td>\n",
       "      <td>0.0</td>\n",
       "      <td>14.41</td>\n",
       "      <td>95.38</td>\n",
       "      <td>109.79</td>\n",
       "      <td>14.76</td>\n",
       "      <td>0.0</td>\n",
       "      <td>0.0</td>\n",
       "    </tr>\n",
       "    <tr>\n",
       "      <th>15270</th>\n",
       "      <td>822</td>\n",
       "      <td>2014</td>\n",
       "      <td>13</td>\n",
       "      <td>West Bengal</td>\n",
       "      <td>West Dinajpur</td>\n",
       "      <td>399.61</td>\n",
       "      <td>1120.63</td>\n",
       "      <td>2804.31</td>\n",
       "      <td>51.62</td>\n",
       "      <td>131.02</td>\n",
       "      <td>...</td>\n",
       "      <td>10581.40</td>\n",
       "      <td>0.0</td>\n",
       "      <td>0.0</td>\n",
       "      <td>0.0</td>\n",
       "      <td>14.50</td>\n",
       "      <td>94.05</td>\n",
       "      <td>108.55</td>\n",
       "      <td>13.28</td>\n",
       "      <td>0.0</td>\n",
       "      <td>0.0</td>\n",
       "    </tr>\n",
       "    <tr>\n",
       "      <th>15271</th>\n",
       "      <td>822</td>\n",
       "      <td>2015</td>\n",
       "      <td>13</td>\n",
       "      <td>West Bengal</td>\n",
       "      <td>West Dinajpur</td>\n",
       "      <td>414.94</td>\n",
       "      <td>1195.03</td>\n",
       "      <td>2880.01</td>\n",
       "      <td>62.70</td>\n",
       "      <td>161.25</td>\n",
       "      <td>...</td>\n",
       "      <td>9366.67</td>\n",
       "      <td>0.0</td>\n",
       "      <td>0.0</td>\n",
       "      <td>0.0</td>\n",
       "      <td>14.92</td>\n",
       "      <td>95.77</td>\n",
       "      <td>110.70</td>\n",
       "      <td>14.86</td>\n",
       "      <td>0.0</td>\n",
       "      <td>0.0</td>\n",
       "    </tr>\n",
       "    <tr>\n",
       "      <th>15272</th>\n",
       "      <td>822</td>\n",
       "      <td>2016</td>\n",
       "      <td>13</td>\n",
       "      <td>West Bengal</td>\n",
       "      <td>West Dinajpur</td>\n",
       "      <td>402.75</td>\n",
       "      <td>1141.76</td>\n",
       "      <td>2834.93</td>\n",
       "      <td>58.24</td>\n",
       "      <td>149.62</td>\n",
       "      <td>...</td>\n",
       "      <td>8441.01</td>\n",
       "      <td>0.0</td>\n",
       "      <td>0.0</td>\n",
       "      <td>0.0</td>\n",
       "      <td>15.53</td>\n",
       "      <td>95.91</td>\n",
       "      <td>111.43</td>\n",
       "      <td>14.65</td>\n",
       "      <td>0.0</td>\n",
       "      <td>0.0</td>\n",
       "    </tr>\n",
       "    <tr>\n",
       "      <th>15273</th>\n",
       "      <td>822</td>\n",
       "      <td>2017</td>\n",
       "      <td>13</td>\n",
       "      <td>West Bengal</td>\n",
       "      <td>West Dinajpur</td>\n",
       "      <td>417.97</td>\n",
       "      <td>1082.16</td>\n",
       "      <td>2589.08</td>\n",
       "      <td>44.44</td>\n",
       "      <td>149.23</td>\n",
       "      <td>...</td>\n",
       "      <td>9167.84</td>\n",
       "      <td>0.0</td>\n",
       "      <td>0.0</td>\n",
       "      <td>0.0</td>\n",
       "      <td>16.08</td>\n",
       "      <td>97.69</td>\n",
       "      <td>113.77</td>\n",
       "      <td>16.56</td>\n",
       "      <td>0.0</td>\n",
       "      <td>0.0</td>\n",
       "    </tr>\n",
       "  </tbody>\n",
       "</table>\n",
       "<p>774 rows × 80 columns</p>\n",
       "</div>"
      ],
      "text/plain": [
       "       Dist Code  Year  State Code   State Name      Dist Name  \\\n",
       "14500        800  1966          13  West Bengal    24 Parganas   \n",
       "14501        800  1967          13  West Bengal    24 Parganas   \n",
       "14502        800  1968          13  West Bengal    24 Parganas   \n",
       "14503        800  1969          13  West Bengal    24 Parganas   \n",
       "14504        800  1970          13  West Bengal    24 Parganas   \n",
       "...          ...   ...         ...          ...            ...   \n",
       "15269        822  2013          13  West Bengal  West Dinajpur   \n",
       "15270        822  2014          13  West Bengal  West Dinajpur   \n",
       "15271        822  2015          13  West Bengal  West Dinajpur   \n",
       "15272        822  2016          13  West Bengal  West Dinajpur   \n",
       "15273        822  2017          13  West Bengal  West Dinajpur   \n",
       "\n",
       "       RICE AREA (1000 ha)  RICE PRODUCTION (1000 tons)  \\\n",
       "14500               603.36                       628.09   \n",
       "14501               618.82                       682.16   \n",
       "14502               615.70                       703.49   \n",
       "14503               633.20                       672.19   \n",
       "14504               582.40                       475.70   \n",
       "...                    ...                          ...   \n",
       "15269               407.78                      1069.76   \n",
       "15270               399.61                      1120.63   \n",
       "15271               414.94                      1195.03   \n",
       "15272               402.75                      1141.76   \n",
       "15273               417.97                      1082.16   \n",
       "\n",
       "       RICE YIELD (Kg per ha)  WHEAT AREA (1000 ha)  \\\n",
       "14500                 1040.99                  1.16   \n",
       "14501                 1102.36                  2.29   \n",
       "14502                 1142.59                  3.92   \n",
       "14503                 1061.58                  5.43   \n",
       "14504                  816.79                  9.09   \n",
       "...                       ...                   ...   \n",
       "15269                 2623.38                 50.05   \n",
       "15270                 2804.31                 51.62   \n",
       "15271                 2880.01                 62.70   \n",
       "15272                 2834.93                 58.24   \n",
       "15273                 2589.08                 44.44   \n",
       "\n",
       "       WHEAT PRODUCTION (1000 tons)  ...  SUGARCANE YIELD (Kg per ha)  \\\n",
       "14500                          1.04  ...                      4200.00   \n",
       "14501                          1.98  ...                      3815.60   \n",
       "14502                          4.86  ...                      5021.16   \n",
       "14503                          6.19  ...                      5201.92   \n",
       "14504                         11.27  ...                      4418.48   \n",
       "...                             ...  ...                          ...   \n",
       "15269                        134.32  ...                     13000.00   \n",
       "15270                        131.02  ...                     10581.40   \n",
       "15271                        161.25  ...                      9366.67   \n",
       "15272                        149.62  ...                      8441.01   \n",
       "15273                        149.23  ...                      9167.84   \n",
       "\n",
       "       COTTON AREA (1000 ha)  COTTON PRODUCTION (1000 tons)  \\\n",
       "14500                    0.0                            0.0   \n",
       "14501                    0.0                            0.0   \n",
       "14502                    0.0                            0.0   \n",
       "14503                    0.0                            0.0   \n",
       "14504                    0.0                            0.0   \n",
       "...                      ...                            ...   \n",
       "15269                    0.0                            0.0   \n",
       "15270                    0.0                            0.0   \n",
       "15271                    0.0                            0.0   \n",
       "15272                    0.0                            0.0   \n",
       "15273                    0.0                            0.0   \n",
       "\n",
       "       COTTON YIELD (Kg per ha)  FRUITS AREA (1000 ha)  \\\n",
       "14500                       0.0                   5.26   \n",
       "14501                       0.0                   5.26   \n",
       "14502                       0.0                  29.02   \n",
       "14503                       0.0                  29.06   \n",
       "14504                       0.0                  28.05   \n",
       "...                         ...                    ...   \n",
       "15269                       0.0                  14.41   \n",
       "15270                       0.0                  14.50   \n",
       "15271                       0.0                  14.92   \n",
       "15272                       0.0                  15.53   \n",
       "15273                       0.0                  16.08   \n",
       "\n",
       "       VEGETABLES AREA (1000 ha)  FRUITS AND VEGETABLES AREA (1000 ha)  \\\n",
       "14500                      26.63                                 31.89   \n",
       "14501                      26.95                                 32.21   \n",
       "14502                      28.61                                 57.63   \n",
       "14503                      30.84                                 59.89   \n",
       "14504                      45.24                                 73.29   \n",
       "...                          ...                                   ...   \n",
       "15269                      95.38                                109.79   \n",
       "15270                      94.05                                108.55   \n",
       "15271                      95.77                                110.70   \n",
       "15272                      95.91                                111.43   \n",
       "15273                      97.69                                113.77   \n",
       "\n",
       "       POTATOES AREA (1000 ha)  ONION AREA (1000 ha)  FODDER AREA (1000 ha)  \n",
       "14500                     3.20                  -1.0                   -1.0  \n",
       "14501                     3.52                  -1.0                   -1.0  \n",
       "14502                     3.00                  -1.0                   -1.0  \n",
       "14503                     2.79                  -1.0                   -1.0  \n",
       "14504                     2.23                  -1.0                    0.0  \n",
       "...                        ...                   ...                    ...  \n",
       "15269                    14.76                   0.0                    0.0  \n",
       "15270                    13.28                   0.0                    0.0  \n",
       "15271                    14.86                   0.0                    0.0  \n",
       "15272                    14.65                   0.0                    0.0  \n",
       "15273                    16.56                   0.0                    0.0  \n",
       "\n",
       "[774 rows x 80 columns]"
      ]
     },
     "execution_count": 26,
     "metadata": {},
     "output_type": "execute_result"
    }
   ],
   "source": [
    "wb = data[data[\"State Name\"] == \"West Bengal\"]\n",
    "wb"
   ]
  },
  {
   "cell_type": "markdown",
   "id": "19d1cfc6-0984-498f-b024-56a2497e7879",
   "metadata": {},
   "source": [
    "#### Rice Production according to West Bengal districts"
   ]
  },
  {
   "cell_type": "code",
   "execution_count": 27,
   "id": "f79e54bf-8294-4e8c-9824-c51d98ce72e0",
   "metadata": {},
   "outputs": [
    {
     "data": {
      "text/html": [
       "<div>\n",
       "<style scoped>\n",
       "    .dataframe tbody tr th:only-of-type {\n",
       "        vertical-align: middle;\n",
       "    }\n",
       "\n",
       "    .dataframe tbody tr th {\n",
       "        vertical-align: top;\n",
       "    }\n",
       "\n",
       "    .dataframe thead th {\n",
       "        text-align: right;\n",
       "    }\n",
       "</style>\n",
       "<table border=\"1\" class=\"dataframe\">\n",
       "  <thead>\n",
       "    <tr style=\"text-align: right;\">\n",
       "      <th></th>\n",
       "      <th>Dist Name</th>\n",
       "      <th>RICE PRODUCTION (1000 tons)</th>\n",
       "    </tr>\n",
       "  </thead>\n",
       "  <tbody>\n",
       "    <tr>\n",
       "      <th>0</th>\n",
       "      <td>Midnapur</td>\n",
       "      <td>98868.28</td>\n",
       "    </tr>\n",
       "    <tr>\n",
       "      <th>1</th>\n",
       "      <td>Burdwan</td>\n",
       "      <td>71422.15</td>\n",
       "    </tr>\n",
       "    <tr>\n",
       "      <th>2</th>\n",
       "      <td>24 Parganas</td>\n",
       "      <td>63011.99</td>\n",
       "    </tr>\n",
       "    <tr>\n",
       "      <th>3</th>\n",
       "      <td>Birbhum</td>\n",
       "      <td>42213.81</td>\n",
       "    </tr>\n",
       "    <tr>\n",
       "      <th>4</th>\n",
       "      <td>Bankura</td>\n",
       "      <td>40165.20</td>\n",
       "    </tr>\n",
       "    <tr>\n",
       "      <th>5</th>\n",
       "      <td>Murshidabad</td>\n",
       "      <td>37261.24</td>\n",
       "    </tr>\n",
       "    <tr>\n",
       "      <th>6</th>\n",
       "      <td>West Dinajpur</td>\n",
       "      <td>35224.87</td>\n",
       "    </tr>\n",
       "    <tr>\n",
       "      <th>7</th>\n",
       "      <td>Hooghly</td>\n",
       "      <td>30962.21</td>\n",
       "    </tr>\n",
       "    <tr>\n",
       "      <th>8</th>\n",
       "      <td>Nadia</td>\n",
       "      <td>28016.30</td>\n",
       "    </tr>\n",
       "    <tr>\n",
       "      <th>9</th>\n",
       "      <td>Purulia</td>\n",
       "      <td>23147.50</td>\n",
       "    </tr>\n",
       "    <tr>\n",
       "      <th>10</th>\n",
       "      <td>Malda</td>\n",
       "      <td>22497.83</td>\n",
       "    </tr>\n",
       "    <tr>\n",
       "      <th>11</th>\n",
       "      <td>Cooch Behar</td>\n",
       "      <td>20949.15</td>\n",
       "    </tr>\n",
       "    <tr>\n",
       "      <th>12</th>\n",
       "      <td>Jalpaiguri</td>\n",
       "      <td>17372.00</td>\n",
       "    </tr>\n",
       "    <tr>\n",
       "      <th>13</th>\n",
       "      <td>Howrah</td>\n",
       "      <td>10264.53</td>\n",
       "    </tr>\n",
       "    <tr>\n",
       "      <th>14</th>\n",
       "      <td>Darjeeling</td>\n",
       "      <td>2855.20</td>\n",
       "    </tr>\n",
       "  </tbody>\n",
       "</table>\n",
       "</div>"
      ],
      "text/plain": [
       "        Dist Name  RICE PRODUCTION (1000 tons)\n",
       "0        Midnapur                     98868.28\n",
       "1         Burdwan                     71422.15\n",
       "2     24 Parganas                     63011.99\n",
       "3         Birbhum                     42213.81\n",
       "4         Bankura                     40165.20\n",
       "5     Murshidabad                     37261.24\n",
       "6   West Dinajpur                     35224.87\n",
       "7         Hooghly                     30962.21\n",
       "8           Nadia                     28016.30\n",
       "9         Purulia                     23147.50\n",
       "10          Malda                     22497.83\n",
       "11    Cooch Behar                     20949.15\n",
       "12     Jalpaiguri                     17372.00\n",
       "13         Howrah                     10264.53\n",
       "14     Darjeeling                      2855.20"
      ]
     },
     "execution_count": 27,
     "metadata": {},
     "output_type": "execute_result"
    }
   ],
   "source": [
    "ricewb = wb.groupby([\"Dist Name\"])[\"RICE PRODUCTION (1000 tons)\"].sum().sort_values(ascending = False).reset_index()\n",
    "ricewb"
   ]
  },
  {
   "cell_type": "markdown",
   "id": "55e5f168-518e-4045-acf4-7c49ac400c4a",
   "metadata": {},
   "source": [
    "##### Conclusion : Midnapur district in west bengal produced highest amount of rice"
   ]
  },
  {
   "cell_type": "code",
   "execution_count": 29,
   "id": "27a7001f-6057-4f16-9c1b-55f131c993ed",
   "metadata": {},
   "outputs": [
    {
     "data": {
      "image/png": "[encoded data removed]",
      "text/plain": [
       "<Figure size 1000x400 with 1 Axes>"
      ]
     },
     "metadata": {},
     "output_type": "display_data"
    }
   ],
   "source": [
    "plt.figure(figsize = (10,4))\n",
    "sns.barplot(x = \"Dist Name\",y = \"RICE PRODUCTION (1000 tons)\", data = ricewb,hue = \"Dist Name\")\n",
    "plt.title(\"Rice Production By West Bengal Districts\", fontsize = 14, color = 'navy',family = 'Arial',loc = 'center')\n",
    "plt.xlabel('District Name', fontsize=10)\n",
    "plt.ylabel('RICE PRODUCTION (1000 tons)', fontsize=10)\n",
    "plt.xticks(rotation = 45,ha = 'right',fontsize = 10)\n",
    "plt.tight_layout()\n",
    "plt.show()"
   ]
  },
  {
   "cell_type": "markdown",
   "id": "267eff58-6122-4851-be56-1e5cc7a621b1",
   "metadata": {},
   "source": [
    "#### Year wise wheat production for Uttar Pradesh"
   ]
  },
  {
   "cell_type": "code",
   "execution_count": 30,
   "id": "52adbb6c-ef13-45d3-8233-217624a232d2",
   "metadata": {},
   "outputs": [
    {
     "data": {
      "text/html": [
       "<div>\n",
       "<style scoped>\n",
       "    .dataframe tbody tr th:only-of-type {\n",
       "        vertical-align: middle;\n",
       "    }\n",
       "\n",
       "    .dataframe tbody tr th {\n",
       "        vertical-align: top;\n",
       "    }\n",
       "\n",
       "    .dataframe thead th {\n",
       "        text-align: right;\n",
       "    }\n",
       "</style>\n",
       "<table border=\"1\" class=\"dataframe\">\n",
       "  <thead>\n",
       "    <tr style=\"text-align: right;\">\n",
       "      <th></th>\n",
       "      <th>Year</th>\n",
       "      <th>WHEAT PRODUCTION (1000 tons)</th>\n",
       "    </tr>\n",
       "  </thead>\n",
       "  <tbody>\n",
       "    <tr>\n",
       "      <th>9460</th>\n",
       "      <td>1966</td>\n",
       "      <td>117.10</td>\n",
       "    </tr>\n",
       "    <tr>\n",
       "      <th>9461</th>\n",
       "      <td>1967</td>\n",
       "      <td>164.40</td>\n",
       "    </tr>\n",
       "    <tr>\n",
       "      <th>9462</th>\n",
       "      <td>1968</td>\n",
       "      <td>147.10</td>\n",
       "    </tr>\n",
       "    <tr>\n",
       "      <th>9463</th>\n",
       "      <td>1969</td>\n",
       "      <td>199.00</td>\n",
       "    </tr>\n",
       "    <tr>\n",
       "      <th>9464</th>\n",
       "      <td>1970</td>\n",
       "      <td>213.20</td>\n",
       "    </tr>\n",
       "    <tr>\n",
       "      <th>...</th>\n",
       "      <td>...</td>\n",
       "      <td>...</td>\n",
       "    </tr>\n",
       "    <tr>\n",
       "      <th>11847</th>\n",
       "      <td>2013</td>\n",
       "      <td>590.69</td>\n",
       "    </tr>\n",
       "    <tr>\n",
       "      <th>11848</th>\n",
       "      <td>2014</td>\n",
       "      <td>392.11</td>\n",
       "    </tr>\n",
       "    <tr>\n",
       "      <th>11849</th>\n",
       "      <td>2015</td>\n",
       "      <td>498.34</td>\n",
       "    </tr>\n",
       "    <tr>\n",
       "      <th>11850</th>\n",
       "      <td>2016</td>\n",
       "      <td>606.94</td>\n",
       "    </tr>\n",
       "    <tr>\n",
       "      <th>11851</th>\n",
       "      <td>2017</td>\n",
       "      <td>677.09</td>\n",
       "    </tr>\n",
       "  </tbody>\n",
       "</table>\n",
       "<p>2392 rows × 2 columns</p>\n",
       "</div>"
      ],
      "text/plain": [
       "       Year  WHEAT PRODUCTION (1000 tons)\n",
       "9460   1966                        117.10\n",
       "9461   1967                        164.40\n",
       "9462   1968                        147.10\n",
       "9463   1969                        199.00\n",
       "9464   1970                        213.20\n",
       "...     ...                           ...\n",
       "11847  2013                        590.69\n",
       "11848  2014                        392.11\n",
       "11849  2015                        498.34\n",
       "11850  2016                        606.94\n",
       "11851  2017                        677.09\n",
       "\n",
       "[2392 rows x 2 columns]"
      ]
     },
     "execution_count": 30,
     "metadata": {},
     "output_type": "execute_result"
    }
   ],
   "source": [
    "up_gom = data[data['State Name'] == \"Uttar Pradesh\"][['Year', 'WHEAT PRODUCTION (1000 tons)']]\n",
    "up_gom"
   ]
  },
  {
   "cell_type": "code",
   "execution_count": 37,
   "id": "ce9058e1-8245-408b-bb13-9936f9d6d8e2",
   "metadata": {},
   "outputs": [
    {
     "data": {
      "text/html": [
       "<div>\n",
       "<style scoped>\n",
       "    .dataframe tbody tr th:only-of-type {\n",
       "        vertical-align: middle;\n",
       "    }\n",
       "\n",
       "    .dataframe tbody tr th {\n",
       "        vertical-align: top;\n",
       "    }\n",
       "\n",
       "    .dataframe thead th {\n",
       "        text-align: right;\n",
       "    }\n",
       "</style>\n",
       "<table border=\"1\" class=\"dataframe\">\n",
       "  <thead>\n",
       "    <tr style=\"text-align: right;\">\n",
       "      <th></th>\n",
       "      <th>WHEAT PRODUCTION (1000 tons)</th>\n",
       "    </tr>\n",
       "    <tr>\n",
       "      <th>Year</th>\n",
       "      <th></th>\n",
       "    </tr>\n",
       "  </thead>\n",
       "  <tbody>\n",
       "    <tr>\n",
       "      <th>2017</th>\n",
       "      <td>35798.60</td>\n",
       "    </tr>\n",
       "    <tr>\n",
       "      <th>2016</th>\n",
       "      <td>35120.90</td>\n",
       "    </tr>\n",
       "    <tr>\n",
       "      <th>2011</th>\n",
       "      <td>32271.69</td>\n",
       "    </tr>\n",
       "    <tr>\n",
       "      <th>2013</th>\n",
       "      <td>31611.63</td>\n",
       "    </tr>\n",
       "    <tr>\n",
       "      <th>2010</th>\n",
       "      <td>30602.91</td>\n",
       "    </tr>\n",
       "    <tr>\n",
       "      <th>2008</th>\n",
       "      <td>29110.93</td>\n",
       "    </tr>\n",
       "    <tr>\n",
       "      <th>2012</th>\n",
       "      <td>29041.28</td>\n",
       "    </tr>\n",
       "  </tbody>\n",
       "</table>\n",
       "</div>"
      ],
      "text/plain": [
       "      WHEAT PRODUCTION (1000 tons)\n",
       "Year                              \n",
       "2017                      35798.60\n",
       "2016                      35120.90\n",
       "2011                      32271.69\n",
       "2013                      31611.63\n",
       "2010                      30602.91\n",
       "2008                      29110.93\n",
       "2012                      29041.28"
      ]
     },
     "execution_count": 37,
     "metadata": {},
     "output_type": "execute_result"
    }
   ],
   "source": [
    "up_top_gom = up_gom.groupby('Year')['WHEAT PRODUCTION (1000 tons)'].sum().sort_values(ascending = False).head(7)\n",
    "up_top_gom = pd.DataFrame(up_top_gom)\n",
    "up_top_gom"
   ]
  },
  {
   "cell_type": "code",
   "execution_count": 42,
   "id": "83086281-6c14-4777-a2ae-6b7ec4524f9c",
   "metadata": {},
   "outputs": [
    {
     "data": {
      "image/png": "[encoded data removed]",
      "text/plain": [
       "<Figure size 800x400 with 1 Axes>"
      ]
     },
     "metadata": {},
     "output_type": "display_data"
    }
   ],
   "source": [
    "sns.set_theme(style=\"darkgrid\")\n",
    "plt.figure(figsize=(8, 4))\n",
    "\n",
    "c = sns.barplot(x='Year', y='WHEAT PRODUCTION (1000 tons)', data=up_top_gom, hue = \"Year\",legend = False)\n",
    "for x in c.containers:\n",
    "    c.bar_label(x)\n",
    "plt.title(\"Top 10 Wheat Production Years From UP\", fontsize=15, color='darkgreen', family='Arial', loc='center')\n",
    "plt.xlabel(\"Years\", fontsize=10,color='blue')\n",
    "plt.ylabel(\"Production (1000 tons)\", fontsize=10)\n",
    "\n",
    "plt.tight_layout()\n",
    "plt.show()"
   ]
  },
  {
   "cell_type": "markdown",
   "id": "14f9a159-171c-4c52-bd61-34bd461d13e7",
   "metadata": {},
   "source": [
    "#### Millet Production per Year analysis"
   ]
  },
  {
   "cell_type": "code",
   "execution_count": 29,
   "id": "d4801394-63c0-449f-81af-e6478abb04ae",
   "metadata": {},
   "outputs": [
    {
     "data": {
      "text/html": [
       "<div>\n",
       "<style scoped>\n",
       "    .dataframe tbody tr th:only-of-type {\n",
       "        vertical-align: middle;\n",
       "    }\n",
       "\n",
       "    .dataframe tbody tr th {\n",
       "        vertical-align: top;\n",
       "    }\n",
       "\n",
       "    .dataframe thead th {\n",
       "        text-align: right;\n",
       "    }\n",
       "</style>\n",
       "<table border=\"1\" class=\"dataframe\">\n",
       "  <thead>\n",
       "    <tr style=\"text-align: right;\">\n",
       "      <th></th>\n",
       "      <th>Year</th>\n",
       "      <th>PEARL MILLET PRODUCTION (1000 tons)</th>\n",
       "    </tr>\n",
       "  </thead>\n",
       "  <tbody>\n",
       "    <tr>\n",
       "      <th>0</th>\n",
       "      <td>2011</td>\n",
       "      <td>12413.46</td>\n",
       "    </tr>\n",
       "    <tr>\n",
       "      <th>1</th>\n",
       "      <td>2010</td>\n",
       "      <td>12376.91</td>\n",
       "    </tr>\n",
       "    <tr>\n",
       "      <th>2</th>\n",
       "      <td>2003</td>\n",
       "      <td>12165.07</td>\n",
       "    </tr>\n",
       "    <tr>\n",
       "      <th>3</th>\n",
       "      <td>2007</td>\n",
       "      <td>10060.64</td>\n",
       "    </tr>\n",
       "    <tr>\n",
       "      <th>4</th>\n",
       "      <td>2013</td>\n",
       "      <td>9930.81</td>\n",
       "    </tr>\n",
       "    <tr>\n",
       "      <th>5</th>\n",
       "      <td>2016</td>\n",
       "      <td>9802.02</td>\n",
       "    </tr>\n",
       "    <tr>\n",
       "      <th>6</th>\n",
       "      <td>2014</td>\n",
       "      <td>9413.04</td>\n",
       "    </tr>\n",
       "    <tr>\n",
       "      <th>7</th>\n",
       "      <td>2017</td>\n",
       "      <td>9282.15</td>\n",
       "    </tr>\n",
       "    <tr>\n",
       "      <th>8</th>\n",
       "      <td>1992</td>\n",
       "      <td>9082.92</td>\n",
       "    </tr>\n",
       "    <tr>\n",
       "      <th>9</th>\n",
       "      <td>2008</td>\n",
       "      <td>8998.39</td>\n",
       "    </tr>\n",
       "    <tr>\n",
       "      <th>10</th>\n",
       "      <td>2012</td>\n",
       "      <td>8820.76</td>\n",
       "    </tr>\n",
       "    <tr>\n",
       "      <th>11</th>\n",
       "      <td>2001</td>\n",
       "      <td>8509.41</td>\n",
       "    </tr>\n",
       "    <tr>\n",
       "      <th>12</th>\n",
       "      <td>2006</td>\n",
       "      <td>8382.21</td>\n",
       "    </tr>\n",
       "    <tr>\n",
       "      <th>13</th>\n",
       "      <td>1970</td>\n",
       "      <td>8018.16</td>\n",
       "    </tr>\n",
       "    <tr>\n",
       "      <th>14</th>\n",
       "      <td>2004</td>\n",
       "      <td>7925.63</td>\n",
       "    </tr>\n",
       "    <tr>\n",
       "      <th>15</th>\n",
       "      <td>1996</td>\n",
       "      <td>7872.34</td>\n",
       "    </tr>\n",
       "    <tr>\n",
       "      <th>16</th>\n",
       "      <td>2015</td>\n",
       "      <td>7805.13</td>\n",
       "    </tr>\n",
       "    <tr>\n",
       "      <th>17</th>\n",
       "      <td>1997</td>\n",
       "      <td>7719.64</td>\n",
       "    </tr>\n",
       "    <tr>\n",
       "      <th>18</th>\n",
       "      <td>1988</td>\n",
       "      <td>7671.55</td>\n",
       "    </tr>\n",
       "    <tr>\n",
       "      <th>19</th>\n",
       "      <td>1983</td>\n",
       "      <td>7603.26</td>\n",
       "    </tr>\n",
       "  </tbody>\n",
       "</table>\n",
       "</div>"
      ],
      "text/plain": [
       "    Year  PEARL MILLET PRODUCTION (1000 tons)\n",
       "0   2011                             12413.46\n",
       "1   2010                             12376.91\n",
       "2   2003                             12165.07\n",
       "3   2007                             10060.64\n",
       "4   2013                              9930.81\n",
       "5   2016                              9802.02\n",
       "6   2014                              9413.04\n",
       "7   2017                              9282.15\n",
       "8   1992                              9082.92\n",
       "9   2008                              8998.39\n",
       "10  2012                              8820.76\n",
       "11  2001                              8509.41\n",
       "12  2006                              8382.21\n",
       "13  1970                              8018.16\n",
       "14  2004                              7925.63\n",
       "15  1996                              7872.34\n",
       "16  2015                              7805.13\n",
       "17  1997                              7719.64\n",
       "18  1988                              7671.55\n",
       "19  1983                              7603.26"
      ]
     },
     "execution_count": 29,
     "metadata": {},
     "output_type": "execute_result"
    }
   ],
   "source": [
    "milet = data.groupby(\"Year\")[\"PEARL MILLET PRODUCTION (1000 tons)\"].sum().sort_values(ascending = False).reset_index()\n",
    "milet.head(20)"
   ]
  },
  {
   "cell_type": "markdown",
   "id": "ee05a4e6-dd45-479f-8ce9-64b1eeda734e",
   "metadata": {},
   "source": [
    "##### Conclusion : In 2011 millet production was highest"
   ]
  },
  {
   "cell_type": "code",
   "execution_count": 47,
   "id": "05dfbdce-8181-4046-8025-f629c62e3c3c",
   "metadata": {},
   "outputs": [
    {
     "data": {
      "image/png": "[encoded data removed]",
      "text/plain": [
       "<Figure size 1000x400 with 1 Axes>"
      ]
     },
     "metadata": {},
     "output_type": "display_data"
    }
   ],
   "source": [
    "plt.figure(figsize = (10,4))\n",
    "sns.set_theme(style = \"white\")\n",
    "plt.plot(milet['Year'],milet['PEARL MILLET PRODUCTION (1000 tons)'],marker = '*',color = \"red\",linewidth = 2, label = 'Milet')\n",
    "plt.title(\"Milet Production (Last 50y)\", color = 'navy',fontsize = 15, loc = 'center', weight = 'bold', family = 'Arial')\n",
    "plt.xlabel(\"Year\", fontsize = 15)\n",
    "plt.ylabel(\"Production\", fontsize = 15)\n",
    "plt.grid(axis = 'y',linestyle = '--')\n",
    "plt.legend()\n",
    "plt.show()"
   ]
  },
  {
   "cell_type": "code",
   "execution_count": null,
   "id": "00f848d9-154c-4875-9398-224fb99a2381",
   "metadata": {},
   "outputs": [],
   "source": []
  }
 ],
 "metadata": {
  "kernelspec": {
   "display_name": "Python 3 (ipykernel)",
   "language": "python",
   "name": "python3"
  },
  "language_info": {
   "codemirror_mode": {
    "name": "ipython",
    "version": 3
   },
   "file_extension": ".py",
   "mimetype": "text/x-python",
   "name": "python",
   "nbconvert_exporter": "python",
   "pygments_lexer": "ipython3",
   "version": "3.12.4"
  }
 },
 "nbformat": 4,
 "nbformat_minor": 5
}
